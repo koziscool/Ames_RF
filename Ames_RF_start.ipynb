{
 "cells": [
  {
   "cell_type": "code",
   "execution_count": 1,
   "id": "dfe6eee9",
   "metadata": {},
   "outputs": [],
   "source": [
    "import fastbook\n",
    "fastbook.setup_book()"
   ]
  },
  {
   "cell_type": "code",
   "execution_count": 3,
   "id": "a75df7c9",
   "metadata": {},
   "outputs": [],
   "source": [
    "from fastbook import *\n",
    "from pandas.api.types import is_string_dtype, is_numeric_dtype, is_categorical_dtype\n",
    "from fastai.tabular.all import *\n",
    "from sklearn.ensemble import RandomForestRegressor\n",
    "from sklearn.tree import DecisionTreeRegressor\n",
    "from dtreeviz.trees import *\n",
    "from IPython.display import Image, display_svg, SVG\n",
    "\n",
    "pd.options.display.max_rows = 20\n",
    "pd.options.display.max_columns = 8"
   ]
  },
  {
   "cell_type": "code",
   "execution_count": 199,
   "id": "9aa36942",
   "metadata": {},
   "outputs": [
    {
     "name": "stdout",
     "output_type": "stream",
     "text": [
      "Current working directory: /home/koz/koz/NYCDSA/AmesWorking\n"
     ]
    }
   ],
   "source": [
    "import os\n",
    "import pandas as pd\n",
    "import numpy as np\n",
    "\n",
    "cwd = os.getcwd()\n",
    "print(\"Current working directory: {0}\".format(cwd))\n",
    "\n",
    "realestate = pd.read_csv(\"./Ames Real Estate Data.csv\", low_memory = False)\n",
    "HousePrice = pd.read_csv(\"./Ames_HousePrice.csv\")"
   ]
  },
  {
   "cell_type": "code",
   "execution_count": 200,
   "id": "16c4b80a",
   "metadata": {},
   "outputs": [
    {
     "data": {
      "text/plain": [
       "Index(['Unnamed: 0', 'PID', 'GrLivArea', 'SalePrice', 'MSSubClass', 'MSZoning',\n",
       "       'LotFrontage', 'LotArea', 'Street', 'Alley', 'LotShape', 'LandContour',\n",
       "       'Utilities', 'LotConfig', 'LandSlope', 'Neighborhood', 'Condition1',\n",
       "       'Condition2', 'BldgType', 'HouseStyle', 'OverallQual', 'OverallCond',\n",
       "       'YearBuilt', 'YearRemodAdd', 'RoofStyle', 'RoofMatl', 'Exterior1st',\n",
       "       'Exterior2nd', 'MasVnrType', 'MasVnrArea', 'ExterQual', 'ExterCond',\n",
       "       'Foundation', 'BsmtQual', 'BsmtCond', 'BsmtExposure', 'BsmtFinType1',\n",
       "       'BsmtFinSF1', 'BsmtFinType2', 'BsmtFinSF2', 'BsmtUnfSF', 'TotalBsmtSF',\n",
       "       'Heating', 'HeatingQC', 'CentralAir', 'Electrical', '1stFlrSF',\n",
       "       '2ndFlrSF', 'LowQualFinSF', 'BsmtFullBath', 'BsmtHalfBath', 'FullBath',\n",
       "       'HalfBath', 'BedroomAbvGr', 'KitchenAbvGr', 'KitchenQual',\n",
       "       'TotRmsAbvGrd', 'Functional', 'Fireplaces', 'FireplaceQu', 'GarageType',\n",
       "       'GarageYrBlt', 'GarageFinish', 'GarageCars', 'GarageArea', 'GarageQual',\n",
       "       'GarageCond', 'PavedDrive', 'WoodDeckSF', 'OpenPorchSF',\n",
       "       'EnclosedPorch', '3SsnPorch', 'ScreenPorch', 'PoolArea', 'PoolQC',\n",
       "       'Fence', 'MiscFeature', 'MiscVal', 'MoSold', 'YrSold', 'SaleType',\n",
       "       'SaleCondition'],\n",
       "      dtype='object')"
      ]
     },
     "execution_count": 200,
     "metadata": {},
     "output_type": "execute_result"
    }
   ],
   "source": [
    "HousePrice.columns"
   ]
  },
  {
   "cell_type": "code",
   "execution_count": 201,
   "id": "fdc5f76c",
   "metadata": {},
   "outputs": [
    {
     "data": {
      "text/plain": [
       "array([2010, 2009, 2007, 2008, 2006])"
      ]
     },
     "execution_count": 201,
     "metadata": {},
     "output_type": "execute_result"
    }
   ],
   "source": [
    "HousePrice['YrSold'].unique()"
   ]
  },
  {
   "cell_type": "code",
   "execution_count": 202,
   "id": "c098bcf5",
   "metadata": {},
   "outputs": [
    {
     "data": {
      "text/plain": [
       "dtype('int64')"
      ]
     },
     "execution_count": 202,
     "metadata": {},
     "output_type": "execute_result"
    }
   ],
   "source": [
    "HousePrice['YrSold'].dtype"
   ]
  },
  {
   "cell_type": "code",
   "execution_count": 204,
   "id": "9500a71a",
   "metadata": {},
   "outputs": [
    {
     "data": {
      "text/plain": [
       "array(['Pave', 'Grvl'], dtype=object)"
      ]
     },
     "execution_count": 204,
     "metadata": {},
     "output_type": "execute_result"
    }
   ],
   "source": [
    "HousePrice['Street'].unique()"
   ]
  },
  {
   "cell_type": "code",
   "execution_count": 205,
   "id": "e91bb1f0",
   "metadata": {},
   "outputs": [],
   "source": [
    "MSZoning_order = ('RL', 'C (all)', 'RM', 'FV', 'RH', 'I (all)', 'A (agr)')\n",
    "HousePrice['MSZoning'] = HousePrice['MSZoning'].astype('category')\n",
    "HousePrice['MSZoning'].cat.set_categories(MSZoning_order, ordered=True, inplace=True)"
   ]
  },
  {
   "cell_type": "code",
   "execution_count": 206,
   "id": "2d0d866a",
   "metadata": {},
   "outputs": [
    {
     "data": {
      "text/plain": [
       "dtype('O')"
      ]
     },
     "execution_count": 206,
     "metadata": {},
     "output_type": "execute_result"
    }
   ],
   "source": [
    "HousePrice['Street'].dtype"
   ]
  },
  {
   "cell_type": "code",
   "execution_count": 207,
   "id": "192edf71",
   "metadata": {},
   "outputs": [],
   "source": [
    "Street_order = ('Pave', 'Grvl')\n",
    "HousePrice['Street'] = HousePrice['Street'].astype('category')\n",
    "HousePrice['Street'].cat.set_categories(Street_order, ordered=True, inplace=True)"
   ]
  },
  {
   "cell_type": "code",
   "execution_count": 208,
   "id": "d64520b5",
   "metadata": {},
   "outputs": [
    {
     "data": {
      "text/plain": [
       "array([nan, 'Pave', 'Grvl'], dtype=object)"
      ]
     },
     "execution_count": 208,
     "metadata": {},
     "output_type": "execute_result"
    }
   ],
   "source": [
    "#HousePrice['Alley'].unique()\n",
    "#HousePrice['Alley'].fillna(value=\"No alley access\")\n",
    "HousePrice['Alley'].unique()"
   ]
  },
  {
   "cell_type": "code",
   "execution_count": 209,
   "id": "8142ca4e",
   "metadata": {},
   "outputs": [],
   "source": [
    "Alley_order = ('Pave', 'Grvl')\n",
    "HousePrice['Alley'] = HousePrice['Alley'].astype('category')\n",
    "HousePrice['Alley'].cat.set_categories(Alley_order, ordered=True, inplace=True)"
   ]
  },
  {
   "cell_type": "code",
   "execution_count": 210,
   "id": "6d893e22",
   "metadata": {},
   "outputs": [
    {
     "data": {
      "text/plain": [
       "array(['Reg', 'IR1', 'IR3', 'IR2'], dtype=object)"
      ]
     },
     "execution_count": 210,
     "metadata": {},
     "output_type": "execute_result"
    }
   ],
   "source": [
    "HousePrice['LotShape'].unique()"
   ]
  },
  {
   "cell_type": "code",
   "execution_count": 211,
   "id": "fc3f8ae5",
   "metadata": {},
   "outputs": [],
   "source": [
    "LotShape_order = ('Reg', 'IR1', 'IR3', 'IR2')\n",
    "HousePrice['LotShape'] = HousePrice['LotShape'].astype('category')\n",
    "HousePrice['LotShape'].cat.set_categories(LotShape_order, ordered=True, inplace=True)"
   ]
  },
  {
   "cell_type": "code",
   "execution_count": 212,
   "id": "eb872049",
   "metadata": {},
   "outputs": [
    {
     "data": {
      "text/plain": [
       "array(['Lvl', 'Bnk', 'HLS', 'Low'], dtype=object)"
      ]
     },
     "execution_count": 212,
     "metadata": {},
     "output_type": "execute_result"
    }
   ],
   "source": [
    "HousePrice['LandContour'].unique()"
   ]
  },
  {
   "cell_type": "code",
   "execution_count": 213,
   "id": "4d08e8e9",
   "metadata": {},
   "outputs": [],
   "source": [
    "LandContour_order = ('Lvl', 'Bnk', 'HLS', 'Low')\n",
    "HousePrice['LandContour'] = HousePrice['LandContour'].astype('category')\n",
    "HousePrice['LandContour'].cat.set_categories(LandContour_order, ordered=True, inplace=True)"
   ]
  },
  {
   "cell_type": "code",
   "execution_count": 214,
   "id": "ee5aeb7f",
   "metadata": {},
   "outputs": [
    {
     "data": {
      "text/plain": [
       "array(['AllPub', 'NoSewr'], dtype=object)"
      ]
     },
     "execution_count": 214,
     "metadata": {},
     "output_type": "execute_result"
    }
   ],
   "source": [
    "HousePrice['Utilities'].unique()"
   ]
  },
  {
   "cell_type": "code",
   "execution_count": 215,
   "id": "1efe375b",
   "metadata": {},
   "outputs": [],
   "source": [
    "Utilities_order = ('AllPub', 'NoSewr')\n",
    "HousePrice['Utilities'] = HousePrice['Utilities'].astype('category')\n",
    "HousePrice['Utilities'].cat.set_categories(Utilities_order, ordered=True, inplace=True)"
   ]
  },
  {
   "cell_type": "code",
   "execution_count": 216,
   "id": "2d1b4cf6",
   "metadata": {},
   "outputs": [
    {
     "data": {
      "text/plain": [
       "array(['Corner', 'Inside', 'FR2', 'CulDSac', 'FR3'], dtype=object)"
      ]
     },
     "execution_count": 216,
     "metadata": {},
     "output_type": "execute_result"
    }
   ],
   "source": [
    "HousePrice['LotConfig'].unique()"
   ]
  },
  {
   "cell_type": "code",
   "execution_count": 217,
   "id": "c8357214",
   "metadata": {},
   "outputs": [],
   "source": [
    "LotConfig_order = ('Corner', 'Inside', 'FR2', 'CulDSac', 'FR3')\n",
    "HousePrice['LotConfig'] = HousePrice['LotConfig'].astype('category')\n",
    "HousePrice['LotConfig'].cat.set_categories(LotConfig_order, ordered=True, inplace=True)"
   ]
  },
  {
   "cell_type": "code",
   "execution_count": 218,
   "id": "c8db65b5",
   "metadata": {},
   "outputs": [
    {
     "data": {
      "text/plain": [
       "array(['Gtl', 'Mod', 'Sev'], dtype=object)"
      ]
     },
     "execution_count": 218,
     "metadata": {},
     "output_type": "execute_result"
    }
   ],
   "source": [
    "HousePrice['LandSlope'].unique()"
   ]
  },
  {
   "cell_type": "code",
   "execution_count": 219,
   "id": "dbdbca32",
   "metadata": {},
   "outputs": [],
   "source": [
    "LandSlope_order = ('Gtl', 'Mod', 'Sev')\n",
    "HousePrice['LandSlope'] = HousePrice['LandSlope'].astype('category')\n",
    "HousePrice['LandSlope'].cat.set_categories(LandSlope_order, ordered=True, inplace=True)"
   ]
  },
  {
   "cell_type": "code",
   "execution_count": 220,
   "id": "1758153a",
   "metadata": {},
   "outputs": [
    {
     "data": {
      "text/plain": [
       "array(['SWISU', 'Edwards', 'IDOTRR', 'OldTown', 'NWAmes', 'Blmngtn', 'Mitchel', 'NridgHt', 'NAmes', 'CollgCr', 'SawyerW', 'MeadowV', 'BrDale', 'Gilbert', 'Timber', 'Somerst', 'BrkSide', 'NoRidge',\n",
       "       'Sawyer', 'Crawfor', 'Greens', 'ClearCr', 'GrnHill', 'StoneBr', 'Veenker', 'NPkVill', 'Blueste', 'Landmrk'], dtype=object)"
      ]
     },
     "execution_count": 220,
     "metadata": {},
     "output_type": "execute_result"
    }
   ],
   "source": [
    "HousePrice['Neighborhood'].unique()"
   ]
  },
  {
   "cell_type": "code",
   "execution_count": 221,
   "id": "27be6b75",
   "metadata": {},
   "outputs": [],
   "source": [
    "Neighborhood_order = ('SWISU', 'Edwards', 'IDOTRR', 'OldTown', 'NWAmes', 'Blmngtn', 'Mitchel', 'NridgHt', 'NAmes', 'CollgCr', 'SawyerW', 'MeadowV', 'BrDale', 'Gilbert', 'Timber', 'Somerst', 'BrkSide', 'NoRidge',\n",
    "       'Sawyer', 'Crawfor', 'Greens', 'ClearCr', 'GrnHill', 'StoneBr', 'Veenker', 'NPkVill', 'Blueste', 'Landmrk')\n",
    "HousePrice['Neighborhood'] = HousePrice['Neighborhood'].astype('category')\n",
    "HousePrice['Neighborhood'].cat.set_categories(Neighborhood_order, ordered=True, inplace=True)"
   ]
  },
  {
   "cell_type": "code",
   "execution_count": 222,
   "id": "ec9f37f7",
   "metadata": {},
   "outputs": [
    {
     "data": {
      "text/plain": [
       "array(['Norm', 'RRAn', 'PosN', 'Artery', 'RRAe', 'Feedr', 'PosA', 'RRNn', 'RRNe'], dtype=object)"
      ]
     },
     "execution_count": 222,
     "metadata": {},
     "output_type": "execute_result"
    }
   ],
   "source": [
    "HousePrice['Condition1'].unique()"
   ]
  },
  {
   "cell_type": "code",
   "execution_count": 223,
   "id": "0e2cf14a",
   "metadata": {},
   "outputs": [],
   "source": [
    "Condition1_order = ('Norm', 'RRAn', 'PosN', 'Artery', 'RRAe', 'Feedr', 'PosA', 'RRNn', 'RRNe')\n",
    "HousePrice['Condition1'] = HousePrice['Condition1'].astype('category')\n",
    "HousePrice['Condition1'].cat.set_categories(Condition1_order, ordered=True, inplace=True)"
   ]
  },
  {
   "cell_type": "code",
   "execution_count": 224,
   "id": "5041eb2c",
   "metadata": {},
   "outputs": [
    {
     "data": {
      "text/plain": [
       "array(['Norm', 'PosN', 'Feedr', 'Artery', 'PosA', 'RRNn', 'RRAn', 'RRAe'], dtype=object)"
      ]
     },
     "execution_count": 224,
     "metadata": {},
     "output_type": "execute_result"
    }
   ],
   "source": [
    "HousePrice['Condition2'].unique()"
   ]
  },
  {
   "cell_type": "code",
   "execution_count": 225,
   "id": "23eaf1d0",
   "metadata": {},
   "outputs": [],
   "source": [
    "Condition2_order = ('Norm', 'PosN', 'Feedr', 'Artery', 'PosA', 'RRNn', 'RRAn', 'RRAe')\n",
    "HousePrice['Condition2'] = HousePrice['Condition2'].astype('category')\n",
    "HousePrice['Condition2'].cat.set_categories(Condition2_order, ordered=True, inplace=True)"
   ]
  },
  {
   "cell_type": "code",
   "execution_count": 226,
   "id": "337f7a51",
   "metadata": {},
   "outputs": [
    {
     "data": {
      "text/plain": [
       "array(['1Fam', 'TwnhsE', '2fmCon', 'Twnhs', 'Duplex'], dtype=object)"
      ]
     },
     "execution_count": 226,
     "metadata": {},
     "output_type": "execute_result"
    }
   ],
   "source": [
    "HousePrice['BldgType'].unique()"
   ]
  },
  {
   "cell_type": "code",
   "execution_count": 227,
   "id": "a5ebb2dd",
   "metadata": {},
   "outputs": [],
   "source": [
    "BldgType_order = ('1Fam', 'TwnhsE', '2fmCon', 'Twnhs', 'Duplex')\n",
    "HousePrice['BldgType'] = HousePrice['BldgType'].astype('category')\n",
    "HousePrice['BldgType'].cat.set_categories(BldgType_order, ordered=True, inplace=True)"
   ]
  },
  {
   "cell_type": "code",
   "execution_count": 228,
   "id": "41293b3d",
   "metadata": {},
   "outputs": [
    {
     "data": {
      "text/plain": [
       "array(['1Story', '2Story', 'SFoyer', 'SLvl', '1.5Fin', '2.5Unf', '1.5Unf', '2.5Fin'], dtype=object)"
      ]
     },
     "execution_count": 228,
     "metadata": {},
     "output_type": "execute_result"
    }
   ],
   "source": [
    "HousePrice['HouseStyle'].unique()"
   ]
  },
  {
   "cell_type": "code",
   "execution_count": 229,
   "id": "92aca8d3",
   "metadata": {},
   "outputs": [],
   "source": [
    "HouseStyle_order = ('1Story', '2Story', 'SFoyer', 'SLvl', '1.5Fin', '2.5Unf', '1.5Unf', '2.5Fin')\n",
    "HousePrice['HouseStyle'] = HousePrice['HouseStyle'].astype('category')\n",
    "HousePrice['HouseStyle'].cat.set_categories(HouseStyle_order, ordered=True, inplace=True)"
   ]
  },
  {
   "cell_type": "code",
   "execution_count": 230,
   "id": "263073e6",
   "metadata": {},
   "outputs": [
    {
     "data": {
      "text/plain": [
       "dtype('int64')"
      ]
     },
     "execution_count": 230,
     "metadata": {},
     "output_type": "execute_result"
    }
   ],
   "source": [
    "HousePrice['OverallQual'].dtype"
   ]
  },
  {
   "cell_type": "code",
   "execution_count": 231,
   "id": "4b7fc0f3",
   "metadata": {},
   "outputs": [
    {
     "data": {
      "text/plain": [
       "dtype('int64')"
      ]
     },
     "execution_count": 231,
     "metadata": {},
     "output_type": "execute_result"
    }
   ],
   "source": [
    "HousePrice['OverallCond'].dtype"
   ]
  },
  {
   "cell_type": "code",
   "execution_count": 232,
   "id": "d6f6bd20",
   "metadata": {},
   "outputs": [
    {
     "data": {
      "text/plain": [
       "dtype('int64')"
      ]
     },
     "execution_count": 232,
     "metadata": {},
     "output_type": "execute_result"
    }
   ],
   "source": [
    "HousePrice['YearBuilt'].dtype"
   ]
  },
  {
   "cell_type": "code",
   "execution_count": 233,
   "id": "fa0979be",
   "metadata": {},
   "outputs": [
    {
     "data": {
      "text/plain": [
       "dtype('int64')"
      ]
     },
     "execution_count": 233,
     "metadata": {},
     "output_type": "execute_result"
    }
   ],
   "source": [
    "HousePrice['YearRemodAdd'].dtype"
   ]
  },
  {
   "cell_type": "code",
   "execution_count": 234,
   "id": "ebaa8af7",
   "metadata": {},
   "outputs": [
    {
     "data": {
      "text/plain": [
       "array(['Gable', 'Hip', 'Mansard', 'Gambrel', 'Flat', 'Shed'], dtype=object)"
      ]
     },
     "execution_count": 234,
     "metadata": {},
     "output_type": "execute_result"
    }
   ],
   "source": [
    "HousePrice['RoofStyle'].unique()"
   ]
  },
  {
   "cell_type": "code",
   "execution_count": 235,
   "id": "c357cd76",
   "metadata": {},
   "outputs": [],
   "source": [
    "RoofStyle_order = ('Gable', 'Hip', 'Mansard', 'Gambrel', 'Flat', 'Shed')\n",
    "HousePrice['RoofStyle'] = HousePrice['RoofStyle'].astype('category')\n",
    "HousePrice['RoofStyle'].cat.set_categories(RoofStyle_order, ordered=True, inplace=True)"
   ]
  },
  {
   "cell_type": "code",
   "execution_count": 236,
   "id": "7daabe17",
   "metadata": {},
   "outputs": [
    {
     "data": {
      "text/plain": [
       "array(['CompShg', 'Tar&Grv', 'WdShake', 'WdShngl', 'Metal', 'Roll', 'Membran'], dtype=object)"
      ]
     },
     "execution_count": 236,
     "metadata": {},
     "output_type": "execute_result"
    }
   ],
   "source": [
    "HousePrice['RoofMatl'].unique()"
   ]
  },
  {
   "cell_type": "code",
   "execution_count": 238,
   "id": "cb692976",
   "metadata": {},
   "outputs": [],
   "source": [
    "RoofMatl_order = ('CompShg', 'Tar&Grv', 'WdShake', 'WdShngl', 'Metal', 'Roll', 'Membran')\n",
    "HousePrice['RoofMatl'] = HousePrice['RoofMatl'].astype('category')\n",
    "HousePrice['RoofMatl'].cat.set_categories(RoofMatl_order, ordered=True, inplace=True)"
   ]
  },
  {
   "cell_type": "code",
   "execution_count": 239,
   "id": "20ee850d",
   "metadata": {},
   "outputs": [
    {
     "data": {
      "text/plain": [
       "array(['Wd Sdng', 'HdBoard', 'MetalSd', 'VinylSd', 'WdShing', 'Plywood', 'Stucco', 'CemntBd', 'BrkFace', 'AsbShng', 'BrkComm', 'ImStucc', 'AsphShn', 'CBlock', 'PreCast'], dtype=object)"
      ]
     },
     "execution_count": 239,
     "metadata": {},
     "output_type": "execute_result"
    }
   ],
   "source": [
    "HousePrice['Exterior1st'].unique()"
   ]
  },
  {
   "cell_type": "code",
   "execution_count": 240,
   "id": "89ab707d",
   "metadata": {},
   "outputs": [],
   "source": [
    "Exterior1st_order = 'Wd Sdng', 'HdBoard', 'MetalSd', 'VinylSd', 'WdShing', 'Plywood', 'Stucco', 'CemntBd', 'BrkFace', 'AsbShng', 'BrkComm', 'ImStucc', 'AsphShn', 'CBlock', 'PreCast'\n",
    "HousePrice['Exterior1st'] = HousePrice['Exterior1st'].astype('category')\n",
    "HousePrice['Exterior1st'].cat.set_categories(Exterior1st_order, ordered=True, inplace=True)"
   ]
  },
  {
   "cell_type": "code",
   "execution_count": 241,
   "id": "38af448d",
   "metadata": {},
   "outputs": [
    {
     "data": {
      "text/plain": [
       "array(['Wd Sdng', 'HdBoard', 'MetalSd', 'VinylSd', 'Wd Shng', 'Plywood', 'Stucco', 'CmentBd', 'AsbShng', 'ImStucc', 'BrkFace', 'Brk Cmn', 'CBlock', 'AsphShn', 'Stone', 'PreCast'], dtype=object)"
      ]
     },
     "execution_count": 241,
     "metadata": {},
     "output_type": "execute_result"
    }
   ],
   "source": [
    "HousePrice['Exterior2nd'].unique()"
   ]
  },
  {
   "cell_type": "code",
   "execution_count": 242,
   "id": "f513e960",
   "metadata": {},
   "outputs": [],
   "source": [
    "Exterior2nd_order = 'Wd Sdng', 'HdBoard', 'MetalSd', 'VinylSd', 'Wd Shng', 'Plywood', 'Stucco', 'CmentBd', 'AsbShng', 'ImStucc', 'BrkFace', 'Brk Cmn', 'CBlock', 'AsphShn', 'Stone', 'PreCast'\n",
    "HousePrice['Exterior2nd'] = HousePrice['Exterior2nd'].astype('category')\n",
    "HousePrice['Exterior2nd'].cat.set_categories(Exterior2nd_order, ordered=True, inplace=True)"
   ]
  },
  {
   "cell_type": "code",
   "execution_count": 243,
   "id": "e26613c8",
   "metadata": {},
   "outputs": [
    {
     "data": {
      "text/plain": [
       "array(['None', 'BrkFace', 'Stone', 'BrkCmn', nan], dtype=object)"
      ]
     },
     "execution_count": 243,
     "metadata": {},
     "output_type": "execute_result"
    }
   ],
   "source": [
    "HousePrice['MasVnrType'].unique()"
   ]
  },
  {
   "cell_type": "code",
   "execution_count": 245,
   "id": "6c5c3a00",
   "metadata": {},
   "outputs": [],
   "source": [
    "MasVnrType_order = 'None', 'BrkFace', 'Stone', 'BrkCmn'\n",
    "HousePrice['MasVnrType'] = HousePrice['MasVnrType'].astype('category')\n",
    "HousePrice['MasVnrType'].cat.set_categories(MasVnrType_order, ordered=True, inplace=True)"
   ]
  },
  {
   "cell_type": "code",
   "execution_count": 246,
   "id": "a355e6fb",
   "metadata": {},
   "outputs": [
    {
     "data": {
      "text/plain": [
       "dtype('float64')"
      ]
     },
     "execution_count": 246,
     "metadata": {},
     "output_type": "execute_result"
    }
   ],
   "source": [
    "HousePrice['MasVnrArea'].dtype"
   ]
  },
  {
   "cell_type": "code",
   "execution_count": 247,
   "id": "af628718",
   "metadata": {},
   "outputs": [
    {
     "data": {
      "text/plain": [
       "array(['TA', 'Gd', 'Fa', 'Ex'], dtype=object)"
      ]
     },
     "execution_count": 247,
     "metadata": {},
     "output_type": "execute_result"
    }
   ],
   "source": [
    "HousePrice['ExterQual'].unique()"
   ]
  },
  {
   "cell_type": "code",
   "execution_count": 248,
   "id": "ee36c6d6",
   "metadata": {},
   "outputs": [],
   "source": [
    "ExterQual_order = 'TA', 'Fa', 'Gd', 'Ex'\n",
    "HousePrice['ExterQual'] = HousePrice['ExterQual'].astype('category')\n",
    "HousePrice['ExterQual'].cat.set_categories(ExterQual_order, ordered=True, inplace=True)"
   ]
  },
  {
   "cell_type": "code",
   "execution_count": 249,
   "id": "7ce10661",
   "metadata": {},
   "outputs": [
    {
     "data": {
      "text/plain": [
       "array(['TA', 'Gd', 'Fa', 'Ex', 'Po'], dtype=object)"
      ]
     },
     "execution_count": 249,
     "metadata": {},
     "output_type": "execute_result"
    }
   ],
   "source": [
    "HousePrice['ExterCond'].unique()"
   ]
  },
  {
   "cell_type": "code",
   "execution_count": 250,
   "id": "da2b4b47",
   "metadata": {},
   "outputs": [],
   "source": [
    "ExterCond_order = 'TA', 'Po', 'Fa', 'Gd', 'Ex' \n",
    "HousePrice['ExterCond'] = HousePrice['ExterCond'].astype('category')\n",
    "HousePrice['ExterCond'].cat.set_categories(ExterCond_order, ordered=True, inplace=True)"
   ]
  },
  {
   "cell_type": "code",
   "execution_count": 251,
   "id": "4c263f6d",
   "metadata": {},
   "outputs": [
    {
     "data": {
      "text/plain": [
       "array(['CBlock', 'BrkTil', 'PConc', 'Slab', 'Stone', 'Wood'], dtype=object)"
      ]
     },
     "execution_count": 251,
     "metadata": {},
     "output_type": "execute_result"
    }
   ],
   "source": [
    "HousePrice['Foundation'].unique()"
   ]
  },
  {
   "cell_type": "code",
   "execution_count": 252,
   "id": "48e9aa7c",
   "metadata": {},
   "outputs": [],
   "source": [
    "Foundation_order = 'CBlock', 'BrkTil', 'PConc', 'Slab', 'Stone', 'Wood'\n",
    "HousePrice['Foundation'] = HousePrice['Foundation'].astype('category')\n",
    "HousePrice['Foundation'].cat.set_categories(Foundation_order, ordered=True, inplace=True)"
   ]
  },
  {
   "cell_type": "code",
   "execution_count": 253,
   "id": "8149086a",
   "metadata": {},
   "outputs": [
    {
     "data": {
      "text/plain": [
       "array(['TA', 'Gd', 'Fa', nan, 'Ex', 'Po'], dtype=object)"
      ]
     },
     "execution_count": 253,
     "metadata": {},
     "output_type": "execute_result"
    }
   ],
   "source": [
    "HousePrice['BsmtQual'].unique()"
   ]
  },
  {
   "cell_type": "code",
   "execution_count": 255,
   "id": "07425090",
   "metadata": {},
   "outputs": [],
   "source": [
    "BsmtQual_order = 'TA', 'Po', 'Fa', 'Gd', 'Ex'\n",
    "HousePrice['BsmtQual'] = HousePrice['BsmtQual'].astype('category')\n",
    "HousePrice['BsmtQual'].cat.set_categories(BsmtQual_order, ordered=True, inplace=True)"
   ]
  },
  {
   "cell_type": "code",
   "execution_count": 256,
   "id": "03c71131",
   "metadata": {},
   "outputs": [
    {
     "data": {
      "text/plain": [
       "array(['TA', nan, 'Fa', 'Gd', 'Ex', 'Po'], dtype=object)"
      ]
     },
     "execution_count": 256,
     "metadata": {},
     "output_type": "execute_result"
    }
   ],
   "source": [
    "HousePrice['BsmtCond'].unique()"
   ]
  },
  {
   "cell_type": "code",
   "execution_count": 257,
   "id": "b6f52299",
   "metadata": {},
   "outputs": [],
   "source": [
    "BsmtCond_order = 'TA', 'Po', 'Fa', 'Gd', 'Ex'\n",
    "HousePrice['BsmtCond'] = HousePrice['BsmtCond'].astype('category')\n",
    "HousePrice['BsmtCond'].cat.set_categories(BsmtCond_order, ordered=True, inplace=True)"
   ]
  },
  {
   "cell_type": "code",
   "execution_count": 258,
   "id": "64519236",
   "metadata": {},
   "outputs": [
    {
     "data": {
      "text/plain": [
       "array(['No', 'Mn', nan, 'Gd', 'Av'], dtype=object)"
      ]
     },
     "execution_count": 258,
     "metadata": {},
     "output_type": "execute_result"
    }
   ],
   "source": [
    "HousePrice['BsmtExposure'].unique()"
   ]
  },
  {
   "cell_type": "code",
   "execution_count": 259,
   "id": "9fa4da81",
   "metadata": {},
   "outputs": [],
   "source": [
    "BsmtExposure_order = 'No', 'Mn', 'Gd', 'Av'\n",
    "HousePrice['BsmtExposure'] = HousePrice['BsmtExposure'].astype('category')\n",
    "HousePrice['BsmtExposure'].cat.set_categories(BsmtExposure_order, ordered=True, inplace=True)"
   ]
  },
  {
   "cell_type": "code",
   "execution_count": 260,
   "id": "54b1398c",
   "metadata": {},
   "outputs": [
    {
     "data": {
      "text/plain": [
       "array(['Rec', 'GLQ', 'ALQ', 'Unf', nan, 'BLQ', 'LwQ'], dtype=object)"
      ]
     },
     "execution_count": 260,
     "metadata": {},
     "output_type": "execute_result"
    }
   ],
   "source": [
    "HousePrice['BsmtFinType1'].unique()"
   ]
  },
  {
   "cell_type": "code",
   "execution_count": 261,
   "id": "f0bcce5f",
   "metadata": {},
   "outputs": [],
   "source": [
    "BsmtFinType1_order = 'Rec', 'GLQ', 'ALQ', 'Unf', 'BLQ', 'LwQ'\n",
    "HousePrice['BsmtFinType1'] = HousePrice['BsmtFinType1'].astype('category')\n",
    "HousePrice['BsmtFinType1'].cat.set_categories(BsmtFinType1_order, ordered=True, inplace=True)"
   ]
  },
  {
   "cell_type": "code",
   "execution_count": 262,
   "id": "1cd99d96",
   "metadata": {},
   "outputs": [
    {
     "data": {
      "text/plain": [
       "dtype('float64')"
      ]
     },
     "execution_count": 262,
     "metadata": {},
     "output_type": "execute_result"
    }
   ],
   "source": [
    "HousePrice['BsmtFinSF1'].dtype"
   ]
  },
  {
   "cell_type": "code",
   "execution_count": 263,
   "id": "5a0aeaec",
   "metadata": {},
   "outputs": [
    {
     "data": {
      "text/plain": [
       "dtype('float64')"
      ]
     },
     "execution_count": 263,
     "metadata": {},
     "output_type": "execute_result"
    }
   ],
   "source": [
    "HousePrice['BsmtFinSF2'].dtype"
   ]
  },
  {
   "cell_type": "code",
   "execution_count": 264,
   "id": "67410e37",
   "metadata": {},
   "outputs": [
    {
     "data": {
      "text/plain": [
       "array(['Unf', 'ALQ', nan, 'GLQ', 'BLQ', 'LwQ', 'Rec'], dtype=object)"
      ]
     },
     "execution_count": 264,
     "metadata": {},
     "output_type": "execute_result"
    }
   ],
   "source": [
    "HousePrice['BsmtFinType2'].unique()"
   ]
  },
  {
   "cell_type": "code",
   "execution_count": 265,
   "id": "f0c832aa",
   "metadata": {},
   "outputs": [],
   "source": [
    "BsmtFinType2_order = 'Rec', 'GLQ', 'ALQ', 'Unf', 'BLQ', 'LwQ'\n",
    "HousePrice['BsmtFinType2'] = HousePrice['BsmtFinType2'].astype('category')\n",
    "HousePrice['BsmtFinType2'].cat.set_categories(BsmtFinType2_order, ordered=True, inplace=True)"
   ]
  },
  {
   "cell_type": "code",
   "execution_count": 266,
   "id": "108c036b",
   "metadata": {},
   "outputs": [
    {
     "data": {
      "text/plain": [
       "dtype('float64')"
      ]
     },
     "execution_count": 266,
     "metadata": {},
     "output_type": "execute_result"
    }
   ],
   "source": [
    "HousePrice['BsmtUnfSF'].dtype"
   ]
  },
  {
   "cell_type": "code",
   "execution_count": 267,
   "id": "c70386ae",
   "metadata": {},
   "outputs": [
    {
     "data": {
      "text/plain": [
       "dtype('float64')"
      ]
     },
     "execution_count": 267,
     "metadata": {},
     "output_type": "execute_result"
    }
   ],
   "source": [
    "HousePrice['TotalBsmtSF'].dtype"
   ]
  },
  {
   "cell_type": "code",
   "execution_count": 268,
   "id": "13fec5b9",
   "metadata": {},
   "outputs": [
    {
     "data": {
      "text/plain": [
       "array(['GasA', 'GasW', 'Grav', 'Wall', 'OthW', 'Floor'], dtype=object)"
      ]
     },
     "execution_count": 268,
     "metadata": {},
     "output_type": "execute_result"
    }
   ],
   "source": [
    "HousePrice['Heating'].unique()"
   ]
  },
  {
   "cell_type": "code",
   "execution_count": 269,
   "id": "318254dc",
   "metadata": {},
   "outputs": [],
   "source": [
    "Heating_order = 'GasA', 'GasW', 'Grav', 'Wall', 'OthW', 'Floor'\n",
    "HousePrice['Heating'] = HousePrice['Heating'].astype('category')\n",
    "HousePrice['Heating'].cat.set_categories(Heating_order, ordered=True, inplace=True)"
   ]
  },
  {
   "cell_type": "code",
   "execution_count": 270,
   "id": "b66f07c6",
   "metadata": {},
   "outputs": [
    {
     "data": {
      "text/plain": [
       "array(['TA', 'Ex', 'Gd', 'Fa', 'Po'], dtype=object)"
      ]
     },
     "execution_count": 270,
     "metadata": {},
     "output_type": "execute_result"
    }
   ],
   "source": [
    "HousePrice['HeatingQC'].unique()"
   ]
  },
  {
   "cell_type": "code",
   "execution_count": 271,
   "id": "ba659071",
   "metadata": {},
   "outputs": [],
   "source": [
    "HeatingQC_order = 'TA', 'Po', 'Fa', 'Gd', 'Ex'\n",
    "HousePrice['HeatingQC'] = HousePrice['HeatingQC'].astype('category')\n",
    "HousePrice['HeatingQC'].cat.set_categories(HeatingQC_order, ordered=True, inplace=True)"
   ]
  },
  {
   "cell_type": "code",
   "execution_count": 272,
   "id": "9b1e2d1a",
   "metadata": {},
   "outputs": [
    {
     "data": {
      "text/plain": [
       "array(['Y', 'N'], dtype=object)"
      ]
     },
     "execution_count": 272,
     "metadata": {},
     "output_type": "execute_result"
    }
   ],
   "source": [
    "HousePrice['CentralAir'].unique()"
   ]
  },
  {
   "cell_type": "code",
   "execution_count": 273,
   "id": "d5220f92",
   "metadata": {},
   "outputs": [],
   "source": [
    "CentralAir_order = 'Y', 'N'\n",
    "HousePrice['CentralAir'] = HousePrice['CentralAir'].astype('category')\n",
    "HousePrice['CentralAir'].cat.set_categories(CentralAir_order, ordered=True, inplace=True)"
   ]
  },
  {
   "cell_type": "code",
   "execution_count": 274,
   "id": "81d6077b",
   "metadata": {},
   "outputs": [
    {
     "data": {
      "text/plain": [
       "array(['SBrkr', 'FuseF', 'FuseA', 'FuseP', nan], dtype=object)"
      ]
     },
     "execution_count": 274,
     "metadata": {},
     "output_type": "execute_result"
    }
   ],
   "source": [
    "HousePrice['Electrical'].unique()"
   ]
  },
  {
   "cell_type": "code",
   "execution_count": 275,
   "id": "482594dc",
   "metadata": {},
   "outputs": [],
   "source": [
    "Electrical_order = 'SBrkr', 'FuseF', 'FuseA', 'FuseP'\n",
    "HousePrice['Electrical'] = HousePrice['Electrical'].astype('category')\n",
    "HousePrice['Electrical'].cat.set_categories(Electrical_order, ordered=True, inplace=True)"
   ]
  },
  {
   "cell_type": "code",
   "execution_count": 276,
   "id": "73adbf56",
   "metadata": {},
   "outputs": [
    {
     "data": {
      "text/plain": [
       "dtype('int64')"
      ]
     },
     "execution_count": 276,
     "metadata": {},
     "output_type": "execute_result"
    }
   ],
   "source": [
    "HousePrice['1stFlrSF'].dtype"
   ]
  },
  {
   "cell_type": "code",
   "execution_count": 277,
   "id": "458dafc7",
   "metadata": {},
   "outputs": [
    {
     "data": {
      "text/plain": [
       "dtype('int64')"
      ]
     },
     "execution_count": 277,
     "metadata": {},
     "output_type": "execute_result"
    }
   ],
   "source": [
    "HousePrice['2ndFlrSF'].dtype"
   ]
  },
  {
   "cell_type": "code",
   "execution_count": 278,
   "id": "760acb95",
   "metadata": {},
   "outputs": [
    {
     "data": {
      "text/plain": [
       "dtype('int64')"
      ]
     },
     "execution_count": 278,
     "metadata": {},
     "output_type": "execute_result"
    }
   ],
   "source": [
    "HousePrice['LowQualFinSF'].dtype"
   ]
  },
  {
   "cell_type": "code",
   "execution_count": 279,
   "id": "712ff640",
   "metadata": {},
   "outputs": [
    {
     "data": {
      "text/plain": [
       "dtype('float64')"
      ]
     },
     "execution_count": 279,
     "metadata": {},
     "output_type": "execute_result"
    }
   ],
   "source": [
    "HousePrice['BsmtFullBath'].dtype"
   ]
  },
  {
   "cell_type": "code",
   "execution_count": 123,
   "id": "112b0f4d",
   "metadata": {},
   "outputs": [
    {
     "data": {
      "text/plain": [
       "dtype('float64')"
      ]
     },
     "execution_count": 123,
     "metadata": {},
     "output_type": "execute_result"
    }
   ],
   "source": [
    "HousePrice['BsmtHalfBath'].dtype"
   ]
  },
  {
   "cell_type": "code",
   "execution_count": 280,
   "id": "ff9913e7",
   "metadata": {},
   "outputs": [
    {
     "data": {
      "text/plain": [
       "dtype('int64')"
      ]
     },
     "execution_count": 280,
     "metadata": {},
     "output_type": "execute_result"
    }
   ],
   "source": [
    "HousePrice['HalfBath'].dtype"
   ]
  },
  {
   "cell_type": "code",
   "execution_count": 281,
   "id": "36661629",
   "metadata": {},
   "outputs": [
    {
     "data": {
      "text/plain": [
       "dtype('int64')"
      ]
     },
     "execution_count": 281,
     "metadata": {},
     "output_type": "execute_result"
    }
   ],
   "source": [
    "HousePrice['BedroomAbvGr'].dtype"
   ]
  },
  {
   "cell_type": "code",
   "execution_count": 282,
   "id": "699013dd",
   "metadata": {},
   "outputs": [
    {
     "data": {
      "text/plain": [
       "dtype('int64')"
      ]
     },
     "execution_count": 282,
     "metadata": {},
     "output_type": "execute_result"
    }
   ],
   "source": [
    "HousePrice['KitchenAbvGr'].dtype"
   ]
  },
  {
   "cell_type": "code",
   "execution_count": 283,
   "id": "82b336cb",
   "metadata": {},
   "outputs": [
    {
     "data": {
      "text/plain": [
       "array(['TA', 'Gd', 'Ex', 'Fa', 'Po'], dtype=object)"
      ]
     },
     "execution_count": 283,
     "metadata": {},
     "output_type": "execute_result"
    }
   ],
   "source": [
    "HousePrice['KitchenQual'].unique()"
   ]
  },
  {
   "cell_type": "code",
   "execution_count": 284,
   "id": "2ed27d1c",
   "metadata": {},
   "outputs": [],
   "source": [
    "KitchenQual_order = 'TA', 'Po', 'Fa', 'Gd', 'Ex'\n",
    "HousePrice['KitchenQual'] = HousePrice['KitchenQual'].astype('category')\n",
    "HousePrice['KitchenQual'].cat.set_categories(KitchenQual_order, ordered=True, inplace=True)"
   ]
  },
  {
   "cell_type": "code",
   "execution_count": 285,
   "id": "718c8cd2",
   "metadata": {},
   "outputs": [
    {
     "data": {
      "text/plain": [
       "dtype('int64')"
      ]
     },
     "execution_count": 285,
     "metadata": {},
     "output_type": "execute_result"
    }
   ],
   "source": [
    "HousePrice['TotRmsAbvGrd'].dtype"
   ]
  },
  {
   "cell_type": "code",
   "execution_count": 286,
   "id": "6de56e4e",
   "metadata": {},
   "outputs": [
    {
     "data": {
      "text/plain": [
       "array(['Typ', 'Min2', 'Min1', 'Mod', 'Sal', 'Maj1', 'Maj2'], dtype=object)"
      ]
     },
     "execution_count": 286,
     "metadata": {},
     "output_type": "execute_result"
    }
   ],
   "source": [
    "HousePrice['Functional'].unique()"
   ]
  },
  {
   "cell_type": "code",
   "execution_count": 287,
   "id": "41f69241",
   "metadata": {},
   "outputs": [],
   "source": [
    "Functional_order = 'Typ', 'Min2', 'Min1', 'Mod', 'Sal', 'Maj1', 'Maj2'\n",
    "HousePrice['Functional'] = HousePrice['Functional'].astype('category')\n",
    "HousePrice['Functional'].cat.set_categories(Functional_order, ordered=True, inplace=True)"
   ]
  },
  {
   "cell_type": "code",
   "execution_count": 288,
   "id": "3ef18213",
   "metadata": {},
   "outputs": [
    {
     "data": {
      "text/plain": [
       "dtype('int64')"
      ]
     },
     "execution_count": 288,
     "metadata": {},
     "output_type": "execute_result"
    }
   ],
   "source": [
    "HousePrice['Fireplaces'].dtype"
   ]
  },
  {
   "cell_type": "code",
   "execution_count": 289,
   "id": "dacd8161",
   "metadata": {},
   "outputs": [
    {
     "data": {
      "text/plain": [
       "array(['Gd', nan, 'Ex', 'TA', 'Fa', 'Po'], dtype=object)"
      ]
     },
     "execution_count": 289,
     "metadata": {},
     "output_type": "execute_result"
    }
   ],
   "source": [
    "HousePrice['FireplaceQu'].unique()"
   ]
  },
  {
   "cell_type": "code",
   "execution_count": 290,
   "id": "5469bb99",
   "metadata": {},
   "outputs": [],
   "source": [
    "FireplaceQu_order = 'TA', 'Po', 'Fa', 'Gd', 'Ex'\n",
    "HousePrice['FireplaceQu'] = HousePrice['FireplaceQu'].astype('category')\n",
    "HousePrice['FireplaceQu'].cat.set_categories(FireplaceQu_order, ordered=True, inplace=True)"
   ]
  },
  {
   "cell_type": "code",
   "execution_count": 291,
   "id": "da32d267",
   "metadata": {},
   "outputs": [
    {
     "data": {
      "text/plain": [
       "array(['Detchd', 'Attchd', 'BuiltIn', 'Basment', nan, '2Types', 'CarPort'], dtype=object)"
      ]
     },
     "execution_count": 291,
     "metadata": {},
     "output_type": "execute_result"
    }
   ],
   "source": [
    "HousePrice['GarageType'].unique()"
   ]
  },
  {
   "cell_type": "code",
   "execution_count": 292,
   "id": "f9e0f725",
   "metadata": {},
   "outputs": [],
   "source": [
    "GarageType_order = 'Detchd', 'Attchd', 'BuiltIn', 'Basment', '2Types', 'CarPort'\n",
    "HousePrice['GarageType'] = HousePrice['GarageType'].astype('category')\n",
    "HousePrice['GarageType'].cat.set_categories(GarageType_order, ordered=True, inplace=True)"
   ]
  },
  {
   "cell_type": "code",
   "execution_count": 293,
   "id": "c5d49b1f",
   "metadata": {},
   "outputs": [
    {
     "data": {
      "text/plain": [
       "['Detchd', 'Attchd', 'BuiltIn', 'Basment', NaN, '2Types', 'CarPort']\n",
       "Categories (6, object): ['Detchd' < 'Attchd' < 'BuiltIn' < 'Basment' < '2Types' < 'CarPort']"
      ]
     },
     "execution_count": 293,
     "metadata": {},
     "output_type": "execute_result"
    }
   ],
   "source": [
    "HousePrice['GarageType'].unique()"
   ]
  },
  {
   "cell_type": "code",
   "execution_count": 294,
   "id": "131c57b6",
   "metadata": {},
   "outputs": [
    {
     "data": {
      "text/plain": [
       "dtype('float64')"
      ]
     },
     "execution_count": 294,
     "metadata": {},
     "output_type": "execute_result"
    }
   ],
   "source": [
    "HousePrice['GarageYrBlt'].dtype"
   ]
  },
  {
   "cell_type": "code",
   "execution_count": 295,
   "id": "fdd570b8",
   "metadata": {},
   "outputs": [
    {
     "data": {
      "text/plain": [
       "array(['Unf', 'Fin', 'RFn', nan], dtype=object)"
      ]
     },
     "execution_count": 295,
     "metadata": {},
     "output_type": "execute_result"
    }
   ],
   "source": [
    "HousePrice['GarageFinish'].unique()"
   ]
  },
  {
   "cell_type": "code",
   "execution_count": 296,
   "id": "ec795674",
   "metadata": {},
   "outputs": [],
   "source": [
    "GarageFinish_order = 'Unf', 'Fin', 'RFn'\n",
    "HousePrice['GarageFinish'] = HousePrice['GarageFinish'].astype('category')\n",
    "HousePrice['GarageFinish'].cat.set_categories(GarageFinish_order, ordered=True, inplace=True)"
   ]
  },
  {
   "cell_type": "code",
   "execution_count": 297,
   "id": "e34b20be",
   "metadata": {},
   "outputs": [
    {
     "data": {
      "text/plain": [
       "dtype('float64')"
      ]
     },
     "execution_count": 297,
     "metadata": {},
     "output_type": "execute_result"
    }
   ],
   "source": [
    "HousePrice['GarageCars'].dtype"
   ]
  },
  {
   "cell_type": "code",
   "execution_count": 298,
   "id": "91c8e633",
   "metadata": {},
   "outputs": [
    {
     "data": {
      "text/plain": [
       "dtype('float64')"
      ]
     },
     "execution_count": 298,
     "metadata": {},
     "output_type": "execute_result"
    }
   ],
   "source": [
    "HousePrice['GarageArea'].dtype"
   ]
  },
  {
   "cell_type": "code",
   "execution_count": 299,
   "id": "c878c796",
   "metadata": {},
   "outputs": [
    {
     "data": {
      "text/plain": [
       "array(['TA', nan, 'Fa', 'Gd', 'Po', 'Ex'], dtype=object)"
      ]
     },
     "execution_count": 299,
     "metadata": {},
     "output_type": "execute_result"
    }
   ],
   "source": [
    "HousePrice['GarageQual'].unique()"
   ]
  },
  {
   "cell_type": "code",
   "execution_count": 300,
   "id": "f76d1d1f",
   "metadata": {},
   "outputs": [],
   "source": [
    "GarageQual_order = 'TA', 'Po', 'Fa', 'Gd', 'Ex'\n",
    "HousePrice['GarageQual'] = HousePrice['GarageQual'].astype('category')\n",
    "HousePrice['GarageQual'].cat.set_categories(GarageQual_order, ordered=True, inplace=True)"
   ]
  },
  {
   "cell_type": "code",
   "execution_count": 301,
   "id": "896527d0",
   "metadata": {},
   "outputs": [
    {
     "data": {
      "text/plain": [
       "array(['TA', 'Po', nan, 'Fa', 'Gd', 'Ex'], dtype=object)"
      ]
     },
     "execution_count": 301,
     "metadata": {},
     "output_type": "execute_result"
    }
   ],
   "source": [
    "HousePrice['GarageCond'].unique()"
   ]
  },
  {
   "cell_type": "code",
   "execution_count": 302,
   "id": "bcf696b3",
   "metadata": {},
   "outputs": [],
   "source": [
    "GarageCond_order = 'TA', 'Po', 'Fa', 'Gd', 'Ex'\n",
    "HousePrice['GarageCond'] = HousePrice['GarageCond'].astype('category')\n",
    "HousePrice['GarageCond'].cat.set_categories(GarageCond_order, ordered=True, inplace=True)"
   ]
  },
  {
   "cell_type": "code",
   "execution_count": 303,
   "id": "fc6e64c7",
   "metadata": {},
   "outputs": [
    {
     "data": {
      "text/plain": [
       "array(['Y', 'N', 'P'], dtype=object)"
      ]
     },
     "execution_count": 303,
     "metadata": {},
     "output_type": "execute_result"
    }
   ],
   "source": [
    "HousePrice['PavedDrive'].unique()"
   ]
  },
  {
   "cell_type": "code",
   "execution_count": 304,
   "id": "0db2072d",
   "metadata": {},
   "outputs": [],
   "source": [
    "PavedDrive_order = 'Y', 'N', 'P'\n",
    "HousePrice['PavedDrive'] = HousePrice['PavedDrive'].astype('category')\n",
    "HousePrice['PavedDrive'].cat.set_categories(PavedDrive_order, ordered=True, inplace=True)"
   ]
  },
  {
   "cell_type": "code",
   "execution_count": 305,
   "id": "52f2fe0d",
   "metadata": {},
   "outputs": [
    {
     "data": {
      "text/plain": [
       "dtype('int64')"
      ]
     },
     "execution_count": 305,
     "metadata": {},
     "output_type": "execute_result"
    }
   ],
   "source": [
    "HousePrice['WoodDeckSF'].dtype"
   ]
  },
  {
   "cell_type": "code",
   "execution_count": 306,
   "id": "73d6652e",
   "metadata": {},
   "outputs": [
    {
     "data": {
      "text/plain": [
       "dtype('int64')"
      ]
     },
     "execution_count": 306,
     "metadata": {},
     "output_type": "execute_result"
    }
   ],
   "source": [
    "HousePrice['OpenPorchSF'].dtype"
   ]
  },
  {
   "cell_type": "code",
   "execution_count": 307,
   "id": "0f663c1d",
   "metadata": {},
   "outputs": [
    {
     "data": {
      "text/plain": [
       "dtype('int64')"
      ]
     },
     "execution_count": 307,
     "metadata": {},
     "output_type": "execute_result"
    }
   ],
   "source": [
    "HousePrice['EnclosedPorch'].dtype"
   ]
  },
  {
   "cell_type": "code",
   "execution_count": 308,
   "id": "f829b6a7",
   "metadata": {},
   "outputs": [
    {
     "data": {
      "text/plain": [
       "dtype('int64')"
      ]
     },
     "execution_count": 308,
     "metadata": {},
     "output_type": "execute_result"
    }
   ],
   "source": [
    "HousePrice['3SsnPorch'].dtype"
   ]
  },
  {
   "cell_type": "code",
   "execution_count": 311,
   "id": "18eb53e3",
   "metadata": {},
   "outputs": [
    {
     "data": {
      "text/plain": [
       "dtype('int64')"
      ]
     },
     "execution_count": 311,
     "metadata": {},
     "output_type": "execute_result"
    }
   ],
   "source": [
    "HousePrice['ScreenPorch'].dtype"
   ]
  },
  {
   "cell_type": "code",
   "execution_count": 312,
   "id": "16e0d030",
   "metadata": {},
   "outputs": [
    {
     "data": {
      "text/plain": [
       "dtype('int64')"
      ]
     },
     "execution_count": 312,
     "metadata": {},
     "output_type": "execute_result"
    }
   ],
   "source": [
    "HousePrice['PoolArea'].dtype"
   ]
  },
  {
   "cell_type": "code",
   "execution_count": 313,
   "id": "39e70ad4",
   "metadata": {},
   "outputs": [
    {
     "data": {
      "text/plain": [
       "array([nan, 'Ex', 'Gd', 'Fa', 'TA'], dtype=object)"
      ]
     },
     "execution_count": 313,
     "metadata": {},
     "output_type": "execute_result"
    }
   ],
   "source": [
    "HousePrice['PoolQC'].unique()"
   ]
  },
  {
   "cell_type": "code",
   "execution_count": 314,
   "id": "81525d75",
   "metadata": {},
   "outputs": [],
   "source": [
    "PoolQC_order = 'TA', 'Po', 'Fa', 'Gd', 'Ex'\n",
    "HousePrice['PoolQC'] = HousePrice['PoolQC'].astype('category')\n",
    "HousePrice['PoolQC'].cat.set_categories(PoolQC_order, ordered=True, inplace=True)"
   ]
  },
  {
   "cell_type": "code",
   "execution_count": 315,
   "id": "effc8312",
   "metadata": {},
   "outputs": [
    {
     "data": {
      "text/plain": [
       "array([nan, 'GdWo', 'MnPrv', 'GdPrv', 'MnWw'], dtype=object)"
      ]
     },
     "execution_count": 315,
     "metadata": {},
     "output_type": "execute_result"
    }
   ],
   "source": [
    "HousePrice['Fence'].unique()"
   ]
  },
  {
   "cell_type": "code",
   "execution_count": 316,
   "id": "08593236",
   "metadata": {},
   "outputs": [],
   "source": [
    "Fence_order = 'TA', 'Po', 'Fa', 'Gd', 'Ex'\n",
    "HousePrice['Fence'] = HousePrice['Fence'].astype('category')\n",
    "HousePrice['Fence'].cat.set_categories(Fence_order, ordered=True, inplace=True)"
   ]
  },
  {
   "cell_type": "code",
   "execution_count": 317,
   "id": "90d3a060",
   "metadata": {},
   "outputs": [
    {
     "data": {
      "text/plain": [
       "array([nan, 'Shed', 'Othr', 'Gar2', 'TenC'], dtype=object)"
      ]
     },
     "execution_count": 317,
     "metadata": {},
     "output_type": "execute_result"
    }
   ],
   "source": [
    "HousePrice['MiscFeature'].unique()"
   ]
  },
  {
   "cell_type": "code",
   "execution_count": 318,
   "id": "adf3a81c",
   "metadata": {},
   "outputs": [],
   "source": [
    "MiscFeature_order = 'Shed', 'Othr', 'Gar2', 'TenC'\n",
    "HousePrice['MiscFeature'] = HousePrice['MiscFeature'].astype('category')\n",
    "HousePrice['MiscFeature'].cat.set_categories(MiscFeature_order, ordered=True, inplace=True)"
   ]
  },
  {
   "cell_type": "code",
   "execution_count": 320,
   "id": "d4bdd492",
   "metadata": {},
   "outputs": [
    {
     "data": {
      "text/plain": [
       "dtype('int64')"
      ]
     },
     "execution_count": 320,
     "metadata": {},
     "output_type": "execute_result"
    }
   ],
   "source": [
    "HousePrice['MiscVal'].dtype"
   ]
  },
  {
   "cell_type": "code",
   "execution_count": 321,
   "id": "8a70b00a",
   "metadata": {},
   "outputs": [
    {
     "data": {
      "text/plain": [
       "dtype('int64')"
      ]
     },
     "execution_count": 321,
     "metadata": {},
     "output_type": "execute_result"
    }
   ],
   "source": [
    "HousePrice['MoSold'].dtype"
   ]
  },
  {
   "cell_type": "code",
   "execution_count": 322,
   "id": "14cac4cd",
   "metadata": {},
   "outputs": [
    {
     "data": {
      "text/plain": [
       "dtype('int64')"
      ]
     },
     "execution_count": 322,
     "metadata": {},
     "output_type": "execute_result"
    }
   ],
   "source": [
    "HousePrice['YrSold'].dtype"
   ]
  },
  {
   "cell_type": "code",
   "execution_count": 323,
   "id": "44d3f7d1",
   "metadata": {},
   "outputs": [
    {
     "data": {
      "text/plain": [
       "array(['WD ', 'ConLD', 'New', 'Oth', 'ConLw', 'COD', 'CWD', 'Con', 'ConLI', 'VWD'], dtype=object)"
      ]
     },
     "execution_count": 323,
     "metadata": {},
     "output_type": "execute_result"
    }
   ],
   "source": [
    "HousePrice['SaleType'].unique()"
   ]
  },
  {
   "cell_type": "code",
   "execution_count": 324,
   "id": "a7f6cc2e",
   "metadata": {},
   "outputs": [],
   "source": [
    "SaleType_order = 'WD ', 'ConLD', 'New', 'Oth', 'ConLw', 'COD', 'CWD', 'Con', 'ConLI', 'VWD'\n",
    "HousePrice['SaleType'] = HousePrice['SaleType'].astype('category')\n",
    "HousePrice['SaleType'].cat.set_categories(SaleType_order, ordered=True, inplace=True)"
   ]
  },
  {
   "cell_type": "code",
   "execution_count": 325,
   "id": "2613c0ee",
   "metadata": {},
   "outputs": [
    {
     "data": {
      "text/plain": [
       "array(['Normal', 'Partial', 'AdjLand', 'Abnorml', 'Alloca', 'Family'], dtype=object)"
      ]
     },
     "execution_count": 325,
     "metadata": {},
     "output_type": "execute_result"
    }
   ],
   "source": [
    "HousePrice['SaleCondition'].unique()"
   ]
  },
  {
   "cell_type": "code",
   "execution_count": 326,
   "id": "96762bcd",
   "metadata": {},
   "outputs": [],
   "source": [
    "SaleCondition_order = 'Normal', 'Partial', 'AdjLand', 'Abnorml', 'Alloca', 'Family'\n",
    "HousePrice['SaleCondition'] = HousePrice['SaleCondition'].astype('category')\n",
    "HousePrice['SaleCondition'].cat.set_categories(SaleCondition_order, ordered=True, inplace=True)"
   ]
  },
  {
   "cell_type": "code",
   "execution_count": 183,
   "id": "8d52a5ff",
   "metadata": {},
   "outputs": [],
   "source": [
    "SaleType_order = 'WD ', 'ConLD', 'New', 'Oth', 'ConLw', 'COD', 'CWD', 'Con', 'ConLI', 'VWD'\n",
    "HousePrice['SaleType'] = HousePrice['SaleType'].astype('category')\n",
    "HousePrice['SaleType'].cat.set_categories(SaleType_order, ordered=True, inplace=True)"
   ]
  },
  {
   "cell_type": "code",
   "execution_count": 354,
   "id": "60131fe9",
   "metadata": {},
   "outputs": [
    {
     "data": {
      "text/plain": [
       "(2580, 6)"
      ]
     },
     "execution_count": 354,
     "metadata": {},
     "output_type": "execute_result"
    }
   ],
   "source": [
    "HousePrice_small = HousePrice[['GrLivArea', 'LotArea', 'YearBuilt', 'GarageCars', 'YrSold', 'SalePrice']]\n",
    "HousePrice_small.shape"
   ]
  },
  {
   "cell_type": "code",
   "execution_count": 355,
   "id": "3b4be961",
   "metadata": {},
   "outputs": [
    {
     "data": {
      "text/plain": [
       "(2265, 6)"
      ]
     },
     "execution_count": 355,
     "metadata": {},
     "output_type": "execute_result"
    }
   ],
   "source": [
    "test_cond = HousePrice_small['YrSold'] == 2010\n",
    "remainder_cond = HousePrice_small['YrSold'] < 2010\n",
    "HousePrice_test = HousePrice[test_cond]\n",
    "HousePrice_test.shape\n",
    "HousePrice_train_and_valid = HousePrice_small[remainder_cond]\n",
    "HousePrice_train_and_valid.shape"
   ]
  },
  {
   "cell_type": "code",
   "execution_count": 356,
   "id": "9e916a1d",
   "metadata": {},
   "outputs": [],
   "source": [
    "valid_cond = HousePrice_train_and_valid['YrSold'] == 2009\n",
    "train_idx = np.where(~valid_cond)[0]\n",
    "valid_idx = np.where(valid_cond)[0]\n",
    "\n",
    "splits = (list(train_idx), list(valid_idx))"
   ]
  },
  {
   "cell_type": "code",
   "execution_count": 357,
   "id": "1dc9fbd2",
   "metadata": {},
   "outputs": [],
   "source": [
    "dep_var = 'SalePrice'\n",
    "procs = [ Categorify, FillMissing ]"
   ]
  },
  {
   "cell_type": "code",
   "execution_count": 358,
   "id": "68a79454",
   "metadata": {},
   "outputs": [
    {
     "name": "stdout",
     "output_type": "stream",
     "text": [
      "['GrLivArea', 'LotArea', 'YearBuilt', 'GarageCars', 'YrSold'] []\n"
     ]
    },
    {
     "data": {
      "text/plain": [
       "(1680, 585)"
      ]
     },
     "execution_count": 358,
     "metadata": {},
     "output_type": "execute_result"
    }
   ],
   "source": [
    "cont, cat = cont_cat_split(HousePrice_train_and_valid, 1, dep_var=dep_var)\n",
    "print(cont, cat)\n",
    "# import pdb; pdb.set_trace()\n",
    "tpo = TabularPandas(HousePrice_train_and_valid, procs, cont, cat, y_names=dep_var, splits=splits)\n",
    "len(tpo.train), len(tpo.valid)"
   ]
  },
  {
   "cell_type": "code",
   "execution_count": 359,
   "id": "60cda54b",
   "metadata": {},
   "outputs": [],
   "source": [
    "def root_mse(pred, y): return round(math.sqrt(((pred-y)**2).mean()), 6)\n",
    "def model_rmse(m, xs, y): return root_mse( m.predict(xs), y)"
   ]
  },
  {
   "cell_type": "code",
   "execution_count": 360,
   "id": "9650ea5b",
   "metadata": {},
   "outputs": [],
   "source": [
    "xs, y = tpo.train.xs, tpo.train.y\n",
    "valid_xs, valid_y = tpo.valid.xs, tpo.valid.y"
   ]
  },
  {
   "cell_type": "code",
   "execution_count": 362,
   "id": "03264d44",
   "metadata": {},
   "outputs": [
    {
     "data": {
      "text/plain": [
       "DecisionTreeRegressor()"
      ]
     },
     "execution_count": 362,
     "metadata": {},
     "output_type": "execute_result"
    }
   ],
   "source": [
    "m = DecisionTreeRegressor()\n",
    "m.fit(xs, y)"
   ]
  },
  {
   "cell_type": "code",
   "execution_count": 363,
   "id": "8058a950",
   "metadata": {},
   "outputs": [
    {
     "data": {
      "text/plain": [
       "413.156944"
      ]
     },
     "execution_count": 363,
     "metadata": {},
     "output_type": "execute_result"
    }
   ],
   "source": [
    "model_rmse(m, xs, y)"
   ]
  },
  {
   "cell_type": "code",
   "execution_count": 364,
   "id": "cc184db7",
   "metadata": {},
   "outputs": [
    {
     "data": {
      "text/plain": [
       "82512.465504"
      ]
     },
     "execution_count": 364,
     "metadata": {},
     "output_type": "execute_result"
    }
   ],
   "source": [
    "model_rmse(m, valid_xs, valid_y)"
   ]
  },
  {
   "cell_type": "code",
   "execution_count": 367,
   "id": "061e69cf",
   "metadata": {},
   "outputs": [],
   "source": [
    "def rf(xs, y, n_estimators=40, max_samples=200,\n",
    "       max_features=0.5, min_samples_leaf=5, **kwargs):\n",
    "    return RandomForestRegressor(n_jobs=-1, n_estimators=n_estimators,\n",
    "        max_samples=max_samples, max_features=max_features,\n",
    "        min_samples_leaf=min_samples_leaf, oob_score=True).fit(xs, y)"
   ]
  },
  {
   "cell_type": "code",
   "execution_count": 368,
   "id": "89100208",
   "metadata": {},
   "outputs": [],
   "source": [
    "m = rf(xs, y);"
   ]
  },
  {
   "cell_type": "code",
   "execution_count": 369,
   "id": "89821024",
   "metadata": {},
   "outputs": [
    {
     "data": {
      "text/plain": [
       "38017.159945"
      ]
     },
     "execution_count": 369,
     "metadata": {},
     "output_type": "execute_result"
    }
   ],
   "source": [
    "model_rmse(m, xs, y)"
   ]
  },
  {
   "cell_type": "code",
   "execution_count": null,
   "id": "f4b09e68",
   "metadata": {},
   "outputs": [],
   "source": [
    "model_rmse(m, xs, y)"
   ]
  },
  {
   "cell_type": "markdown",
   "id": "e363c938",
   "metadata": {},
   "source": [
    "model_rmse(m, xs, y)"
   ]
  }
 ],
 "metadata": {
  "kernelspec": {
   "display_name": "Python 3",
   "language": "python",
   "name": "python3"
  },
  "language_info": {
   "codemirror_mode": {
    "name": "ipython",
    "version": 3
   },
   "file_extension": ".py",
   "mimetype": "text/x-python",
   "name": "python",
   "nbconvert_exporter": "python",
   "pygments_lexer": "ipython3",
   "version": "3.8.8"
  }
 },
 "nbformat": 4,
 "nbformat_minor": 5
}
