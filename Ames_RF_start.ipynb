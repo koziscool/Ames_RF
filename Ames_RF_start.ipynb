{
 "cells": [
  {
   "cell_type": "code",
   "execution_count": 1,
   "id": "b78c23ff",
   "metadata": {},
   "outputs": [],
   "source": [
    "import fastbook\n",
    "fastbook.setup_book()"
   ]
  },
  {
   "cell_type": "code",
   "execution_count": 3,
   "id": "b743f633",
   "metadata": {},
   "outputs": [],
   "source": [
    "from fastbook import *\n",
    "from pandas.api.types import is_string_dtype, is_numeric_dtype, is_categorical_dtype\n",
    "from fastai.tabular.all import *\n",
    "from sklearn.ensemble import RandomForestRegressor\n",
    "from sklearn.tree import DecisionTreeRegressor\n",
    "from dtreeviz.trees import *\n",
    "from IPython.display import Image, display_svg, SVG\n",
    "\n",
    "pd.options.display.max_rows = 20\n",
    "pd.options.display.max_columns = 8"
   ]
  },
  {
   "cell_type": "code",
   "execution_count": 5,
   "id": "75f6a2ef",
   "metadata": {},
   "outputs": [
    {
     "name": "stdout",
     "output_type": "stream",
     "text": [
      "Current working directory: /home/koz/koz/NYCDSA/AmesWorking\n"
     ]
    }
   ],
   "source": [
    "import os\n",
    "import pandas as pd\n",
    "import numpy as np\n",
    "\n",
    "cwd = os.getcwd()\n",
    "print(\"Current working directory: {0}\".format(cwd))\n",
    "\n",
    "realestate = pd.read_csv(\"./Ames Real Estate Data.csv\", low_memory = False)\n",
    "HousePrice = pd.read_csv(\"./Ames_HousePrice.csv\")"
   ]
  },
  {
   "cell_type": "code",
   "execution_count": 6,
   "id": "7b069ab9",
   "metadata": {},
   "outputs": [
    {
     "data": {
      "text/plain": [
       "Index(['Unnamed: 0', 'PID', 'GrLivArea', 'SalePrice', 'MSSubClass', 'MSZoning',\n",
       "       'LotFrontage', 'LotArea', 'Street', 'Alley', 'LotShape', 'LandContour',\n",
       "       'Utilities', 'LotConfig', 'LandSlope', 'Neighborhood', 'Condition1',\n",
       "       'Condition2', 'BldgType', 'HouseStyle', 'OverallQual', 'OverallCond',\n",
       "       'YearBuilt', 'YearRemodAdd', 'RoofStyle', 'RoofMatl', 'Exterior1st',\n",
       "       'Exterior2nd', 'MasVnrType', 'MasVnrArea', 'ExterQual', 'ExterCond',\n",
       "       'Foundation', 'BsmtQual', 'BsmtCond', 'BsmtExposure', 'BsmtFinType1',\n",
       "       'BsmtFinSF1', 'BsmtFinType2', 'BsmtFinSF2', 'BsmtUnfSF', 'TotalBsmtSF',\n",
       "       'Heating', 'HeatingQC', 'CentralAir', 'Electrical', '1stFlrSF',\n",
       "       '2ndFlrSF', 'LowQualFinSF', 'BsmtFullBath', 'BsmtHalfBath', 'FullBath',\n",
       "       'HalfBath', 'BedroomAbvGr', 'KitchenAbvGr', 'KitchenQual',\n",
       "       'TotRmsAbvGrd', 'Functional', 'Fireplaces', 'FireplaceQu', 'GarageType',\n",
       "       'GarageYrBlt', 'GarageFinish', 'GarageCars', 'GarageArea', 'GarageQual',\n",
       "       'GarageCond', 'PavedDrive', 'WoodDeckSF', 'OpenPorchSF',\n",
       "       'EnclosedPorch', '3SsnPorch', 'ScreenPorch', 'PoolArea', 'PoolQC',\n",
       "       'Fence', 'MiscFeature', 'MiscVal', 'MoSold', 'YrSold', 'SaleType',\n",
       "       'SaleCondition'],\n",
       "      dtype='object')"
      ]
     },
     "execution_count": 6,
     "metadata": {},
     "output_type": "execute_result"
    }
   ],
   "source": [
    "HousePrice.columns"
   ]
  },
  {
   "cell_type": "code",
   "execution_count": 11,
   "id": "a64c5408",
   "metadata": {},
   "outputs": [
    {
     "data": {
      "text/plain": [
       "array([2010, 2009, 2007, 2008, 2006])"
      ]
     },
     "execution_count": 11,
     "metadata": {},
     "output_type": "execute_result"
    }
   ],
   "source": [
    "HousePrice['YrSold'].unique()"
   ]
  },
  {
   "cell_type": "code",
   "execution_count": 26,
   "id": "c1508ec7",
   "metadata": {},
   "outputs": [
    {
     "data": {
      "text/plain": [
       "array(['Pave', 'Grvl'], dtype=object)"
      ]
     },
     "execution_count": 26,
     "metadata": {},
     "output_type": "execute_result"
    }
   ],
   "source": [
    "HousePrice['Street'].unique()"
   ]
  },
  {
   "cell_type": "code",
   "execution_count": 20,
   "id": "6998cb7c",
   "metadata": {},
   "outputs": [],
   "source": [
    "MSZoning_order = ('RL', 'C (all)', 'RM', 'FV', 'RH', 'I (all)', 'A (agr)')\n",
    "HousePrice['MSZoning'] = HousePrice['MSZoning'].astype('category')\n",
    "HousePrice['MSZoning'].cat.set_categories(MSZoning_order, ordered=True, inplace=True)"
   ]
  },
  {
   "cell_type": "code",
   "execution_count": 27,
   "id": "36648906",
   "metadata": {},
   "outputs": [
    {
     "data": {
      "text/plain": [
       "dtype('O')"
      ]
     },
     "execution_count": 27,
     "metadata": {},
     "output_type": "execute_result"
    }
   ],
   "source": [
    "HousePrice['Street'].dtype"
   ]
  },
  {
   "cell_type": "code",
   "execution_count": 28,
   "id": "1e692250",
   "metadata": {},
   "outputs": [],
   "source": [
    "Street_order = ('Pave', 'Grvl')\n",
    "HousePrice['Street'] = HousePrice['Street'].astype('category')\n",
    "HousePrice['Street'].cat.set_categories(Street_order, ordered=True, inplace=True)"
   ]
  },
  {
   "cell_type": "code",
   "execution_count": 31,
   "id": "c6c1049c",
   "metadata": {},
   "outputs": [
    {
     "data": {
      "text/plain": [
       "array([nan, 'Pave', 'Grvl'], dtype=object)"
      ]
     },
     "execution_count": 31,
     "metadata": {},
     "output_type": "execute_result"
    }
   ],
   "source": [
    "#HousePrice['Alley'].unique()\n",
    "#HousePrice['Alley'].fillna(value=\"No alley access\")\n",
    "HousePrice['Alley'].unique()"
   ]
  },
  {
   "cell_type": "code",
   "execution_count": 32,
   "id": "85467171",
   "metadata": {},
   "outputs": [],
   "source": [
    "Alley_order = ('Pave', 'Grvl')\n",
    "HousePrice['Alley'] = HousePrice['Alley'].astype('category')\n",
    "HousePrice['Alley'].cat.set_categories(Alley_order, ordered=True, inplace=True)"
   ]
  },
  {
   "cell_type": "code",
   "execution_count": 33,
   "id": "0ea74fa9",
   "metadata": {},
   "outputs": [
    {
     "data": {
      "text/plain": [
       "array(['Reg', 'IR1', 'IR3', 'IR2'], dtype=object)"
      ]
     },
     "execution_count": 33,
     "metadata": {},
     "output_type": "execute_result"
    }
   ],
   "source": [
    "HousePrice['LotShape'].unique()"
   ]
  },
  {
   "cell_type": "code",
   "execution_count": 34,
   "id": "d71009f6",
   "metadata": {},
   "outputs": [],
   "source": [
    "LotShape_order = ('Reg', 'IR1', 'IR3', 'IR2')\n",
    "HousePrice['LotShape'] = HousePrice['LotShape'].astype('category')\n",
    "HousePrice['LotShape'].cat.set_categories(LotShape_order, ordered=True, inplace=True)"
   ]
  },
  {
   "cell_type": "code",
   "execution_count": 38,
   "id": "ede28606",
   "metadata": {},
   "outputs": [
    {
     "data": {
      "text/plain": [
       "['Lvl', 'Bnk', 'HLS', 'Low']\n",
       "Categories (4, object): ['Lvl' < 'Bnk' < 'HLS' < 'Low']"
      ]
     },
     "execution_count": 38,
     "metadata": {},
     "output_type": "execute_result"
    }
   ],
   "source": [
    "HousePrice['LandContour'].unique()"
   ]
  },
  {
   "cell_type": "code",
   "execution_count": 36,
   "id": "db17c2c5",
   "metadata": {},
   "outputs": [],
   "source": [
    "LandContour_order = ('Lvl', 'Bnk', 'HLS', 'Low')\n",
    "HousePrice['LandContour'] = HousePrice['LandContour'].astype('category')\n",
    "HousePrice['LandContour'].cat.set_categories(LandContour_order, ordered=True, inplace=True)"
   ]
  },
  {
   "cell_type": "code",
   "execution_count": 39,
   "id": "b43b1ae1",
   "metadata": {},
   "outputs": [
    {
     "data": {
      "text/plain": [
       "array(['AllPub', 'NoSewr'], dtype=object)"
      ]
     },
     "execution_count": 39,
     "metadata": {},
     "output_type": "execute_result"
    }
   ],
   "source": [
    "HousePrice['Utilities'].unique()"
   ]
  },
  {
   "cell_type": "code",
   "execution_count": 40,
   "id": "cbd3cb57",
   "metadata": {},
   "outputs": [],
   "source": [
    "Utilities_order = ('AllPub', 'NoSewr')\n",
    "HousePrice['Utilities'] = HousePrice['Utilities'].astype('category')\n",
    "HousePrice['Utilities'].cat.set_categories(Utilities_order, ordered=True, inplace=True)"
   ]
  },
  {
   "cell_type": "code",
   "execution_count": 42,
   "id": "a0ef25ac",
   "metadata": {},
   "outputs": [
    {
     "data": {
      "text/plain": [
       "array(['Corner', 'Inside', 'FR2', 'CulDSac', 'FR3'], dtype=object)"
      ]
     },
     "execution_count": 42,
     "metadata": {},
     "output_type": "execute_result"
    }
   ],
   "source": [
    "HousePrice['LotConfig'].unique()"
   ]
  },
  {
   "cell_type": "code",
   "execution_count": 43,
   "id": "31bf89db",
   "metadata": {},
   "outputs": [],
   "source": [
    "LotConfig_order = ('Corner', 'Inside', 'FR2', 'CulDSac', 'FR3')\n",
    "HousePrice['LotConfig'] = HousePrice['LotConfig'].astype('category')\n",
    "HousePrice['LotConfig'].cat.set_categories(LotConfig_order, ordered=True, inplace=True)"
   ]
  },
  {
   "cell_type": "code",
   "execution_count": 45,
   "id": "c2cebe2a",
   "metadata": {},
   "outputs": [
    {
     "data": {
      "text/plain": [
       "array(['Gtl', 'Mod', 'Sev'], dtype=object)"
      ]
     },
     "execution_count": 45,
     "metadata": {},
     "output_type": "execute_result"
    }
   ],
   "source": [
    "HousePrice['LandSlope'].unique()"
   ]
  },
  {
   "cell_type": "code",
   "execution_count": 46,
   "id": "b0022cf6",
   "metadata": {},
   "outputs": [],
   "source": [
    "LandSlope_order = ('Gtl', 'Mod', 'Sev')\n",
    "HousePrice['LandSlope'] = HousePrice['LandSlope'].astype('category')\n",
    "HousePrice['LandSlope'].cat.set_categories(LandSlope_order, ordered=True, inplace=True)"
   ]
  },
  {
   "cell_type": "code",
   "execution_count": 48,
   "id": "e1f2abe1",
   "metadata": {},
   "outputs": [
    {
     "data": {
      "text/plain": [
       "array(['SWISU', 'Edwards', 'IDOTRR', 'OldTown', 'NWAmes', 'Blmngtn', 'Mitchel', 'NridgHt', 'NAmes', 'CollgCr', 'SawyerW', 'MeadowV', 'BrDale', 'Gilbert', 'Timber', 'Somerst', 'BrkSide', 'NoRidge',\n",
       "       'Sawyer', 'Crawfor', 'Greens', 'ClearCr', 'GrnHill', 'StoneBr', 'Veenker', 'NPkVill', 'Blueste', 'Landmrk'], dtype=object)"
      ]
     },
     "execution_count": 48,
     "metadata": {},
     "output_type": "execute_result"
    }
   ],
   "source": [
    "HousePrice['Neighborhood'].unique()"
   ]
  },
  {
   "cell_type": "code",
   "execution_count": 49,
   "id": "cdae2eef",
   "metadata": {},
   "outputs": [],
   "source": [
    "Neighborhood_order = ('SWISU', 'Edwards', 'IDOTRR', 'OldTown', 'NWAmes', 'Blmngtn', 'Mitchel', 'NridgHt', 'NAmes', 'CollgCr', 'SawyerW', 'MeadowV', 'BrDale', 'Gilbert', 'Timber', 'Somerst', 'BrkSide', 'NoRidge',\n",
    "       'Sawyer', 'Crawfor', 'Greens', 'ClearCr', 'GrnHill', 'StoneBr', 'Veenker', 'NPkVill', 'Blueste', 'Landmrk')\n",
    "HousePrice['Neighborhood'] = HousePrice['Neighborhood'].astype('category')\n",
    "HousePrice['Neighborhood'].cat.set_categories(Neighborhood_order, ordered=True, inplace=True)"
   ]
  },
  {
   "cell_type": "code",
   "execution_count": 51,
   "id": "7101b9ad",
   "metadata": {},
   "outputs": [
    {
     "data": {
      "text/plain": [
       "array(['Norm', 'RRAn', 'PosN', 'Artery', 'RRAe', 'Feedr', 'PosA', 'RRNn', 'RRNe'], dtype=object)"
      ]
     },
     "execution_count": 51,
     "metadata": {},
     "output_type": "execute_result"
    }
   ],
   "source": [
    "HousePrice['Condition1'].unique()"
   ]
  },
  {
   "cell_type": "code",
   "execution_count": 52,
   "id": "743a72f1",
   "metadata": {},
   "outputs": [],
   "source": [
    "Condition1_order = ('Norm', 'RRAn', 'PosN', 'Artery', 'RRAe', 'Feedr', 'PosA', 'RRNn', 'RRNe')\n",
    "HousePrice['Condition1'] = HousePrice['Condition1'].astype('category')\n",
    "HousePrice['Condition1'].cat.set_categories(Condition1_order, ordered=True, inplace=True)"
   ]
  },
  {
   "cell_type": "code",
   "execution_count": 54,
   "id": "aa8ae479",
   "metadata": {},
   "outputs": [
    {
     "data": {
      "text/plain": [
       "array(['Norm', 'PosN', 'Feedr', 'Artery', 'PosA', 'RRNn', 'RRAn', 'RRAe'], dtype=object)"
      ]
     },
     "execution_count": 54,
     "metadata": {},
     "output_type": "execute_result"
    }
   ],
   "source": [
    "HousePrice['Condition2'].unique()"
   ]
  },
  {
   "cell_type": "code",
   "execution_count": 55,
   "id": "ea4726b1",
   "metadata": {},
   "outputs": [],
   "source": [
    "Condition2_order = ('Norm', 'PosN', 'Feedr', 'Artery', 'PosA', 'RRNn', 'RRAn', 'RRAe')\n",
    "HousePrice['Condition2'] = HousePrice['Condition2'].astype('category')\n",
    "HousePrice['Condition2'].cat.set_categories(Condition2_order, ordered=True, inplace=True)"
   ]
  },
  {
   "cell_type": "code",
   "execution_count": 57,
   "id": "d197b218",
   "metadata": {},
   "outputs": [
    {
     "data": {
      "text/plain": [
       "array(['1Fam', 'TwnhsE', '2fmCon', 'Twnhs', 'Duplex'], dtype=object)"
      ]
     },
     "execution_count": 57,
     "metadata": {},
     "output_type": "execute_result"
    }
   ],
   "source": [
    "HousePrice['BldgType'].unique()"
   ]
  },
  {
   "cell_type": "code",
   "execution_count": 58,
   "id": "bf990f41",
   "metadata": {},
   "outputs": [],
   "source": [
    "BldgType_order = ('1Fam', 'TwnhsE', '2fmCon', 'Twnhs', 'Duplex')\n",
    "HousePrice['BldgType'] = HousePrice['BldgType'].astype('category')\n",
    "HousePrice['BldgType'].cat.set_categories(BldgType_order, ordered=True, inplace=True)"
   ]
  },
  {
   "cell_type": "code",
   "execution_count": 60,
   "id": "2794e3b3",
   "metadata": {},
   "outputs": [
    {
     "data": {
      "text/plain": [
       "array(['1Story', '2Story', 'SFoyer', 'SLvl', '1.5Fin', '2.5Unf', '1.5Unf', '2.5Fin'], dtype=object)"
      ]
     },
     "execution_count": 60,
     "metadata": {},
     "output_type": "execute_result"
    }
   ],
   "source": [
    "HousePrice['HouseStyle'].unique()"
   ]
  },
  {
   "cell_type": "code",
   "execution_count": 61,
   "id": "75b38dd9",
   "metadata": {},
   "outputs": [],
   "source": [
    "HouseStyle_order = ('1Story', '2Story', 'SFoyer', 'SLvl', '1.5Fin', '2.5Unf', '1.5Unf', '2.5Fin')\n",
    "HousePrice['HouseStyle'] = HousePrice['HouseStyle'].astype('category')\n",
    "HousePrice['HouseStyle'].cat.set_categories(HouseStyle_order, ordered=True, inplace=True)"
   ]
  },
  {
   "cell_type": "code",
   "execution_count": 63,
   "id": "a8184e02",
   "metadata": {},
   "outputs": [
    {
     "data": {
      "text/plain": [
       "dtype('int64')"
      ]
     },
     "execution_count": 63,
     "metadata": {},
     "output_type": "execute_result"
    }
   ],
   "source": [
    "HousePrice['OverallQual'].dtype"
   ]
  },
  {
   "cell_type": "code",
   "execution_count": 65,
   "id": "95685fcc",
   "metadata": {},
   "outputs": [
    {
     "data": {
      "text/plain": [
       "dtype('int64')"
      ]
     },
     "execution_count": 65,
     "metadata": {},
     "output_type": "execute_result"
    }
   ],
   "source": [
    "HousePrice['OverallCond'].dtype"
   ]
  },
  {
   "cell_type": "code",
   "execution_count": 68,
   "id": "06e7ecc8",
   "metadata": {},
   "outputs": [
    {
     "data": {
      "text/plain": [
       "dtype('int64')"
      ]
     },
     "execution_count": 68,
     "metadata": {},
     "output_type": "execute_result"
    }
   ],
   "source": [
    "HousePrice['YearBuilt'].dtype"
   ]
  },
  {
   "cell_type": "code",
   "execution_count": 70,
   "id": "fdee5ee5",
   "metadata": {},
   "outputs": [
    {
     "data": {
      "text/plain": [
       "dtype('int64')"
      ]
     },
     "execution_count": 70,
     "metadata": {},
     "output_type": "execute_result"
    }
   ],
   "source": [
    "HousePrice['YearRemodAdd'].dtype"
   ]
  },
  {
   "cell_type": "code",
   "execution_count": 71,
   "id": "32128159",
   "metadata": {},
   "outputs": [
    {
     "data": {
      "text/plain": [
       "array(['Gable', 'Hip', 'Mansard', 'Gambrel', 'Flat', 'Shed'], dtype=object)"
      ]
     },
     "execution_count": 71,
     "metadata": {},
     "output_type": "execute_result"
    }
   ],
   "source": [
    "HousePrice['RoofStyle'].unique()"
   ]
  },
  {
   "cell_type": "code",
   "execution_count": 72,
   "id": "20608020",
   "metadata": {},
   "outputs": [],
   "source": [
    "RoofStyle_order = ('Gable', 'Hip', 'Mansard', 'Gambrel', 'Flat', 'Shed')\n",
    "HousePrice['RoofStyle'] = HousePrice['RoofStyle'].astype('category')\n",
    "HousePrice['RoofStyle'].cat.set_categories(RoofStyle_order, ordered=True, inplace=True)"
   ]
  },
  {
   "cell_type": "code",
   "execution_count": 74,
   "id": "7818038d",
   "metadata": {},
   "outputs": [
    {
     "data": {
      "text/plain": [
       "array(['CompShg', 'Tar&Grv', 'WdShake', 'WdShngl', 'Metal', 'Roll', 'Membran'], dtype=object)"
      ]
     },
     "execution_count": 74,
     "metadata": {},
     "output_type": "execute_result"
    }
   ],
   "source": [
    "HousePrice['RoofMatl'].unique()"
   ]
  },
  {
   "cell_type": "code",
   "execution_count": 76,
   "id": "8f32a8bf",
   "metadata": {},
   "outputs": [],
   "source": [
    "RoofMatl_order = ('CompShg', 'Tar&Grv', 'WdShake', 'WdShngl', 'Metal', 'Roll', 'Membran')\n",
    "HousePrice['RoofMatl'] = HousePrice['RoofMatl'].astype('category')\n",
    "HousePrice['RoofMatl'].cat.set_categories(RoofMatl_order, ordered=True, inplace=True)"
   ]
  },
  {
   "cell_type": "code",
   "execution_count": 78,
   "id": "14a54c04",
   "metadata": {},
   "outputs": [
    {
     "data": {
      "text/plain": [
       "array(['Wd Sdng', 'HdBoard', 'MetalSd', 'VinylSd', 'WdShing', 'Plywood', 'Stucco', 'CemntBd', 'BrkFace', 'AsbShng', 'BrkComm', 'ImStucc', 'AsphShn', 'CBlock', 'PreCast'], dtype=object)"
      ]
     },
     "execution_count": 78,
     "metadata": {},
     "output_type": "execute_result"
    }
   ],
   "source": [
    "HousePrice['Exterior1st'].unique()"
   ]
  },
  {
   "cell_type": "code",
   "execution_count": 79,
   "id": "18a3b679",
   "metadata": {},
   "outputs": [],
   "source": [
    "Exterior1st_order = 'Wd Sdng', 'HdBoard', 'MetalSd', 'VinylSd', 'WdShing', 'Plywood', 'Stucco', 'CemntBd', 'BrkFace', 'AsbShng', 'BrkComm', 'ImStucc', 'AsphShn', 'CBlock', 'PreCast'\n",
    "HousePrice['Exterior1st'] = HousePrice['Exterior1st'].astype('category')\n",
    "HousePrice['Exterior1st'].cat.set_categories(Exterior1st_order, ordered=True, inplace=True)"
   ]
  },
  {
   "cell_type": "code",
   "execution_count": 81,
   "id": "d785a53f",
   "metadata": {},
   "outputs": [
    {
     "data": {
      "text/plain": [
       "array(['Wd Sdng', 'HdBoard', 'MetalSd', 'VinylSd', 'Wd Shng', 'Plywood', 'Stucco', 'CmentBd', 'AsbShng', 'ImStucc', 'BrkFace', 'Brk Cmn', 'CBlock', 'AsphShn', 'Stone', 'PreCast'], dtype=object)"
      ]
     },
     "execution_count": 81,
     "metadata": {},
     "output_type": "execute_result"
    }
   ],
   "source": [
    "HousePrice['Exterior2nd'].unique()"
   ]
  },
  {
   "cell_type": "code",
   "execution_count": 82,
   "id": "0aad0ce0",
   "metadata": {},
   "outputs": [],
   "source": [
    "Exterior2nd_order = 'Wd Sdng', 'HdBoard', 'MetalSd', 'VinylSd', 'Wd Shng', 'Plywood', 'Stucco', 'CmentBd', 'AsbShng', 'ImStucc', 'BrkFace', 'Brk Cmn', 'CBlock', 'AsphShn', 'Stone', 'PreCast'\n",
    "HousePrice['Exterior2nd'] = HousePrice['Exterior2nd'].astype('category')\n",
    "HousePrice['Exterior2nd'].cat.set_categories(Exterior2nd_order, ordered=True, inplace=True)"
   ]
  },
  {
   "cell_type": "code",
   "execution_count": 83,
   "id": "b7a74a0a",
   "metadata": {},
   "outputs": [
    {
     "data": {
      "text/plain": [
       "array(['None', 'BrkFace', 'Stone', 'BrkCmn', nan], dtype=object)"
      ]
     },
     "execution_count": 83,
     "metadata": {},
     "output_type": "execute_result"
    }
   ],
   "source": [
    "HousePrice['MasVnrType'].unique()"
   ]
  },
  {
   "cell_type": "code",
   "execution_count": 84,
   "id": "fb94d59e",
   "metadata": {},
   "outputs": [],
   "source": [
    "MasVnrType_order = 'None', 'BrkFace', 'Stone', 'BrkCmn'\n",
    "HousePrice['MasVnrType'] = HousePrice['MasVnrType'].astype('category')\n",
    "HousePrice['MasVnrType'].cat.set_categories(MasVnrType_order, ordered=True, inplace=True)"
   ]
  },
  {
   "cell_type": "code",
   "execution_count": 86,
   "id": "a065eb88",
   "metadata": {},
   "outputs": [
    {
     "data": {
      "text/plain": [
       "dtype('float64')"
      ]
     },
     "execution_count": 86,
     "metadata": {},
     "output_type": "execute_result"
    }
   ],
   "source": [
    "HousePrice['MasVnrArea'].dtype"
   ]
  },
  {
   "cell_type": "code",
   "execution_count": 87,
   "id": "3344a4b1",
   "metadata": {},
   "outputs": [
    {
     "data": {
      "text/plain": [
       "array(['TA', 'Gd', 'Fa', 'Ex'], dtype=object)"
      ]
     },
     "execution_count": 87,
     "metadata": {},
     "output_type": "execute_result"
    }
   ],
   "source": [
    "HousePrice['ExterQual'].unique()"
   ]
  },
  {
   "cell_type": "code",
   "execution_count": 91,
   "id": "7686c062",
   "metadata": {},
   "outputs": [],
   "source": [
    "ExterQual_order = 'TA', 'Fa', 'Gd', 'Ex'\n",
    "HousePrice['ExterQual'] = HousePrice['ExterQual'].astype('category')\n",
    "HousePrice['ExterQual'].cat.set_categories(ExterQual_order, ordered=True, inplace=True)"
   ]
  },
  {
   "cell_type": "code",
   "execution_count": 89,
   "id": "2909fea5",
   "metadata": {},
   "outputs": [
    {
     "data": {
      "text/plain": [
       "array(['TA', 'Gd', 'Fa', 'Ex', 'Po'], dtype=object)"
      ]
     },
     "execution_count": 89,
     "metadata": {},
     "output_type": "execute_result"
    }
   ],
   "source": [
    "HousePrice['ExterCond'].unique()"
   ]
  },
  {
   "cell_type": "code",
   "execution_count": 93,
   "id": "7cf0ad71",
   "metadata": {},
   "outputs": [],
   "source": [
    "ExterCond_order = 'TA', 'Po', 'Fa', 'Gd', 'Ex' \n",
    "HousePrice['ExterCond'] = HousePrice['ExterCond'].astype('category')\n",
    "HousePrice['ExterCond'].cat.set_categories(ExterCond_order, ordered=True, inplace=True)"
   ]
  },
  {
   "cell_type": "code",
   "execution_count": 92,
   "id": "9936393e",
   "metadata": {},
   "outputs": [
    {
     "data": {
      "text/plain": [
       "array(['CBlock', 'BrkTil', 'PConc', 'Slab', 'Stone', 'Wood'], dtype=object)"
      ]
     },
     "execution_count": 92,
     "metadata": {},
     "output_type": "execute_result"
    }
   ],
   "source": [
    "HousePrice['Foundation'].unique()"
   ]
  },
  {
   "cell_type": "code",
   "execution_count": 94,
   "id": "3e1d5b20",
   "metadata": {},
   "outputs": [],
   "source": [
    "Foundation_order = 'CBlock', 'BrkTil', 'PConc', 'Slab', 'Stone', 'Wood'\n",
    "HousePrice['Foundation'] = HousePrice['Foundation'].astype('category')\n",
    "HousePrice['Foundation'].cat.set_categories(Foundation_order, ordered=True, inplace=True)"
   ]
  },
  {
   "cell_type": "code",
   "execution_count": 95,
   "id": "eb1102f0",
   "metadata": {},
   "outputs": [
    {
     "data": {
      "text/plain": [
       "array(['TA', 'Gd', 'Fa', nan, 'Ex', 'Po'], dtype=object)"
      ]
     },
     "execution_count": 95,
     "metadata": {},
     "output_type": "execute_result"
    }
   ],
   "source": [
    "HousePrice['BsmtQual'].unique()"
   ]
  },
  {
   "cell_type": "code",
   "execution_count": 96,
   "id": "14cb7ff9",
   "metadata": {},
   "outputs": [],
   "source": [
    "BsmtQual_order = 'TA', 'Po', 'Fa', 'Gd', 'Ex'\n",
    "HousePrice['BsmtQual'] = HousePrice[c'BsmtQual'].astype('category')\n",
    "HousePrice['BsmtQual'].cat.set_categories(BsmtQual_order, ordered=True, inplace=True)"
   ]
  },
  {
   "cell_type": "code",
   "execution_count": 97,
   "id": "1adc7b99",
   "metadata": {},
   "outputs": [
    {
     "data": {
      "text/plain": [
       "array(['TA', nan, 'Fa', 'Gd', 'Ex', 'Po'], dtype=object)"
      ]
     },
     "execution_count": 97,
     "metadata": {},
     "output_type": "execute_result"
    }
   ],
   "source": [
    "HousePrice['BsmtCond'].unique()"
   ]
  },
  {
   "cell_type": "code",
   "execution_count": 98,
   "id": "33b7e86f",
   "metadata": {},
   "outputs": [],
   "source": [
    "BsmtCond_order = 'TA', 'Po', 'Fa', 'Gd', 'Ex'\n",
    "HousePrice['BsmtCond'] = HousePrice['BsmtCond'].astype('category')\n",
    "HousePrice['BsmtCond'].cat.set_categories(BsmtCond_order, ordered=True, inplace=True)"
   ]
  },
  {
   "cell_type": "code",
   "execution_count": 99,
   "id": "bf151e39",
   "metadata": {},
   "outputs": [
    {
     "data": {
      "text/plain": [
       "array(['No', 'Mn', nan, 'Gd', 'Av'], dtype=object)"
      ]
     },
     "execution_count": 99,
     "metadata": {},
     "output_type": "execute_result"
    }
   ],
   "source": [
    "HousePrice['BsmtExposure'].unique()"
   ]
  },
  {
   "cell_type": "code",
   "execution_count": 100,
   "id": "19442c77",
   "metadata": {},
   "outputs": [],
   "source": [
    "BsmtExposure_order = 'No', 'Mn', 'Gd', 'Av'\n",
    "HousePrice['BsmtExposure'] = HousePrice['BsmtExposure'].astype('category')\n",
    "HousePrice['BsmtExposure'].cat.set_categories(BsmtExposure_order, ordered=True, inplace=True)"
   ]
  },
  {
   "cell_type": "code",
   "execution_count": 101,
   "id": "d48bd194",
   "metadata": {},
   "outputs": [
    {
     "data": {
      "text/plain": [
       "array(['Rec', 'GLQ', 'ALQ', 'Unf', nan, 'BLQ', 'LwQ'], dtype=object)"
      ]
     },
     "execution_count": 101,
     "metadata": {},
     "output_type": "execute_result"
    }
   ],
   "source": [
    "HousePrice['BsmtFinType1'].unique()"
   ]
  },
  {
   "cell_type": "code",
   "execution_count": 103,
   "id": "30211a2f",
   "metadata": {},
   "outputs": [],
   "source": [
    "BsmtFinType1_order = 'Rec', 'GLQ', 'ALQ', 'Unf', 'BLQ', 'LwQ'\n",
    "HousePrice['BsmtFinType1'] = HousePrice['BsmtFinType1'].astype('category')\n",
    "HousePrice['BsmtFinType1'].cat.set_categories(BsmtFinType1_order, ordered=True, inplace=True)"
   ]
  },
  {
   "cell_type": "code",
   "execution_count": 104,
   "id": "63e57bf6",
   "metadata": {},
   "outputs": [
    {
     "data": {
      "text/plain": [
       "dtype('float64')"
      ]
     },
     "execution_count": 104,
     "metadata": {},
     "output_type": "execute_result"
    }
   ],
   "source": [
    "HousePrice['BsmtFinSF1'].dtype"
   ]
  },
  {
   "cell_type": "code",
   "execution_count": 105,
   "id": "9680fac8",
   "metadata": {},
   "outputs": [
    {
     "data": {
      "text/plain": [
       "dtype('float64')"
      ]
     },
     "execution_count": 105,
     "metadata": {},
     "output_type": "execute_result"
    }
   ],
   "source": [
    "HousePrice['BsmtFinSF2'].dtype"
   ]
  },
  {
   "cell_type": "code",
   "execution_count": 106,
   "id": "ac81383e",
   "metadata": {},
   "outputs": [
    {
     "data": {
      "text/plain": [
       "array(['Unf', 'ALQ', nan, 'GLQ', 'BLQ', 'LwQ', 'Rec'], dtype=object)"
      ]
     },
     "execution_count": 106,
     "metadata": {},
     "output_type": "execute_result"
    }
   ],
   "source": [
    "HousePrice['BsmtFinType2'].unique()"
   ]
  },
  {
   "cell_type": "code",
   "execution_count": 108,
   "id": "791cb5bf",
   "metadata": {},
   "outputs": [],
   "source": [
    "BsmtFinType2_order = 'Rec', 'GLQ', 'ALQ', 'Unf', 'BLQ', 'LwQ'\n",
    "HousePrice['BsmtFinType2'] = HousePrice['BsmtFinType2'].astype('category')\n",
    "HousePrice['BsmtFinType2'].cat.set_categories(BsmtFinType2_order, ordered=True, inplace=True)"
   ]
  },
  {
   "cell_type": "code",
   "execution_count": 109,
   "id": "cf3406d4",
   "metadata": {},
   "outputs": [
    {
     "data": {
      "text/plain": [
       "dtype('float64')"
      ]
     },
     "execution_count": 109,
     "metadata": {},
     "output_type": "execute_result"
    }
   ],
   "source": [
    "HousePrice['BsmtUnfSF'].dtype"
   ]
  },
  {
   "cell_type": "code",
   "execution_count": 110,
   "id": "205dfdd9",
   "metadata": {},
   "outputs": [
    {
     "data": {
      "text/plain": [
       "dtype('float64')"
      ]
     },
     "execution_count": 110,
     "metadata": {},
     "output_type": "execute_result"
    }
   ],
   "source": [
    "HousePrice['TotalBsmtSF'].dtype"
   ]
  },
  {
   "cell_type": "code",
   "execution_count": 111,
   "id": "f1c22518",
   "metadata": {},
   "outputs": [
    {
     "data": {
      "text/plain": [
       "array(['GasA', 'GasW', 'Grav', 'Wall', 'OthW', 'Floor'], dtype=object)"
      ]
     },
     "execution_count": 111,
     "metadata": {},
     "output_type": "execute_result"
    }
   ],
   "source": [
    "HousePrice['Heating'].unique()"
   ]
  },
  {
   "cell_type": "code",
   "execution_count": 112,
   "id": "b9a738a1",
   "metadata": {},
   "outputs": [],
   "source": [
    "Heating_order = 'GasA', 'GasW', 'Grav', 'Wall', 'OthW', 'Floor'\n",
    "HousePrice['Heating'] = HousePrice['Heating'].astype('category')\n",
    "HousePrice['Heating'].cat.set_categories(Heating_order, ordered=True, inplace=True)"
   ]
  },
  {
   "cell_type": "code",
   "execution_count": 113,
   "id": "b2683acc",
   "metadata": {},
   "outputs": [
    {
     "data": {
      "text/plain": [
       "array(['TA', 'Ex', 'Gd', 'Fa', 'Po'], dtype=object)"
      ]
     },
     "execution_count": 113,
     "metadata": {},
     "output_type": "execute_result"
    }
   ],
   "source": [
    "HousePrice['HeatingQC'].unique()"
   ]
  },
  {
   "cell_type": "code",
   "execution_count": 114,
   "id": "352bf9f3",
   "metadata": {},
   "outputs": [],
   "source": [
    "HeatingQC_order = 'TA', 'Po', 'Fa', 'Gd', 'Ex'\n",
    "HousePrice['HeatingQC'] = HousePrice['HeatingQC'].astype('category')\n",
    "HousePrice['HeatingQC'].cat.set_categories(HeatingQC_order, ordered=True, inplace=True)"
   ]
  },
  {
   "cell_type": "code",
   "execution_count": 115,
   "id": "56638131",
   "metadata": {},
   "outputs": [
    {
     "data": {
      "text/plain": [
       "array(['Y', 'N'], dtype=object)"
      ]
     },
     "execution_count": 115,
     "metadata": {},
     "output_type": "execute_result"
    }
   ],
   "source": [
    "HousePrice['CentralAir'].unique()"
   ]
  },
  {
   "cell_type": "code",
   "execution_count": 116,
   "id": "b6b4fcf9",
   "metadata": {},
   "outputs": [],
   "source": [
    "CentralAir_order = 'Y', 'N'\n",
    "HousePrice['CentralAir'] = HousePrice['CentralAir'].astype('category')\n",
    "HousePrice['CentralAir'].cat.set_categories(CentralAir_order, ordered=True, inplace=True)"
   ]
  },
  {
   "cell_type": "code",
   "execution_count": 144,
   "id": "5ee24f60",
   "metadata": {},
   "outputs": [
    {
     "data": {
      "text/plain": [
       "['SBrkr', 'FuseF', 'FuseA', 'FuseP', NaN]\n",
       "Categories (4, object): ['SBrkr' < 'FuseF' < 'FuseA' < 'FuseP']"
      ]
     },
     "execution_count": 144,
     "metadata": {},
     "output_type": "execute_result"
    }
   ],
   "source": [
    "HousePrice['Electrical'].unique()"
   ]
  },
  {
   "cell_type": "code",
   "execution_count": 145,
   "id": "a0ba3487",
   "metadata": {},
   "outputs": [],
   "source": [
    "Electrical_order = 'SBrkr', 'FuseF', 'FuseA', 'FuseP'\n",
    "HousePrice['Electrical'] = HousePrice['Electrical'].astype('category')\n",
    "HousePrice['Electrical'].cat.set_categories(Electrical_order, ordered=True, inplace=True)"
   ]
  },
  {
   "cell_type": "code",
   "execution_count": 119,
   "id": "6ea96eff",
   "metadata": {},
   "outputs": [
    {
     "data": {
      "text/plain": [
       "dtype('int64')"
      ]
     },
     "execution_count": 119,
     "metadata": {},
     "output_type": "execute_result"
    }
   ],
   "source": [
    "HousePrice['1stFlrSF'].dtype"
   ]
  },
  {
   "cell_type": "code",
   "execution_count": 120,
   "id": "6394e72c",
   "metadata": {},
   "outputs": [
    {
     "data": {
      "text/plain": [
       "dtype('int64')"
      ]
     },
     "execution_count": 120,
     "metadata": {},
     "output_type": "execute_result"
    }
   ],
   "source": [
    "HousePrice['2ndFlrSF'].dtype"
   ]
  },
  {
   "cell_type": "code",
   "execution_count": 121,
   "id": "028b9868",
   "metadata": {},
   "outputs": [
    {
     "data": {
      "text/plain": [
       "dtype('int64')"
      ]
     },
     "execution_count": 121,
     "metadata": {},
     "output_type": "execute_result"
    }
   ],
   "source": [
    "HousePrice['LowQualFinSF'].dtype"
   ]
  },
  {
   "cell_type": "code",
   "execution_count": 122,
   "id": "0b9b6b87",
   "metadata": {},
   "outputs": [
    {
     "data": {
      "text/plain": [
       "dtype('float64')"
      ]
     },
     "execution_count": 122,
     "metadata": {},
     "output_type": "execute_result"
    }
   ],
   "source": [
    "HousePrice['BsmtFullBath'].dtype"
   ]
  },
  {
   "cell_type": "code",
   "execution_count": 123,
   "id": "61a40db8",
   "metadata": {},
   "outputs": [
    {
     "data": {
      "text/plain": [
       "dtype('float64')"
      ]
     },
     "execution_count": 123,
     "metadata": {},
     "output_type": "execute_result"
    }
   ],
   "source": [
    "HousePrice['BsmtHalfBath'].dtype"
   ]
  },
  {
   "cell_type": "code",
   "execution_count": 125,
   "id": "3352cc0b",
   "metadata": {},
   "outputs": [
    {
     "data": {
      "text/plain": [
       "dtype('int64')"
      ]
     },
     "execution_count": 125,
     "metadata": {},
     "output_type": "execute_result"
    }
   ],
   "source": [
    "HousePrice['HalfBath'].dtype"
   ]
  },
  {
   "cell_type": "code",
   "execution_count": 126,
   "id": "f6b52da4",
   "metadata": {},
   "outputs": [
    {
     "data": {
      "text/plain": [
       "dtype('int64')"
      ]
     },
     "execution_count": 126,
     "metadata": {},
     "output_type": "execute_result"
    }
   ],
   "source": [
    "HousePrice['BedroomAbvGr'].dtype"
   ]
  },
  {
   "cell_type": "code",
   "execution_count": 127,
   "id": "e6305e17",
   "metadata": {},
   "outputs": [
    {
     "data": {
      "text/plain": [
       "dtype('int64')"
      ]
     },
     "execution_count": 127,
     "metadata": {},
     "output_type": "execute_result"
    }
   ],
   "source": [
    "HousePrice['KitchenAbvGr'].dtype"
   ]
  },
  {
   "cell_type": "code",
   "execution_count": 129,
   "id": "abd669d8",
   "metadata": {},
   "outputs": [
    {
     "data": {
      "text/plain": [
       "array(['TA', 'Gd', 'Ex', 'Fa', 'Po'], dtype=object)"
      ]
     },
     "execution_count": 129,
     "metadata": {},
     "output_type": "execute_result"
    }
   ],
   "source": [
    "HousePrice['KitchenQual'].unique()"
   ]
  },
  {
   "cell_type": "code",
   "execution_count": 130,
   "id": "bb2226cf",
   "metadata": {},
   "outputs": [],
   "source": [
    "KitchenQual_order = 'TA', 'Po', 'Fa', 'Gd', 'Ex'\n",
    "HousePrice['KitchenQual'] = HousePrice['KitchenQual'].astype('category')\n",
    "HousePrice['KitchenQual'].cat.set_categories(KitchenQual_order, ordered=True, inplace=True)"
   ]
  },
  {
   "cell_type": "code",
   "execution_count": 131,
   "id": "c1b37115",
   "metadata": {},
   "outputs": [
    {
     "data": {
      "text/plain": [
       "dtype('int64')"
      ]
     },
     "execution_count": 131,
     "metadata": {},
     "output_type": "execute_result"
    }
   ],
   "source": [
    "HousePrice['TotRmsAbvGrd'].dtype"
   ]
  },
  {
   "cell_type": "code",
   "execution_count": 133,
   "id": "789a9d75",
   "metadata": {},
   "outputs": [
    {
     "data": {
      "text/plain": [
       "array(['Typ', 'Min2', 'Min1', 'Mod', 'Sal', 'Maj1', 'Maj2'], dtype=object)"
      ]
     },
     "execution_count": 133,
     "metadata": {},
     "output_type": "execute_result"
    }
   ],
   "source": [
    "HousePrice['Functional'].unique()"
   ]
  },
  {
   "cell_type": "code",
   "execution_count": 134,
   "id": "360de742",
   "metadata": {},
   "outputs": [],
   "source": [
    "Functional_order = 'Typ', 'Min2', 'Min1', 'Mod', 'Sal', 'Maj1', 'Maj2'\n",
    "HousePrice['Functional'] = HousePrice['Functional'].astype('category')\n",
    "HousePrice['Functional'].cat.set_categories(Functional_order, ordered=True, inplace=True)"
   ]
  },
  {
   "cell_type": "code",
   "execution_count": 135,
   "id": "f6f8dda1",
   "metadata": {},
   "outputs": [
    {
     "data": {
      "text/plain": [
       "dtype('int64')"
      ]
     },
     "execution_count": 135,
     "metadata": {},
     "output_type": "execute_result"
    }
   ],
   "source": [
    "HousePrice['Fireplaces'].dtype"
   ]
  },
  {
   "cell_type": "code",
   "execution_count": 137,
   "id": "43133f8d",
   "metadata": {},
   "outputs": [
    {
     "data": {
      "text/plain": [
       "array(['Gd', nan, 'Ex', 'TA', 'Fa', 'Po'], dtype=object)"
      ]
     },
     "execution_count": 137,
     "metadata": {},
     "output_type": "execute_result"
    }
   ],
   "source": [
    "HousePrice['FireplaceQu'].unique()"
   ]
  },
  {
   "cell_type": "code",
   "execution_count": 139,
   "id": "1d447ec6",
   "metadata": {},
   "outputs": [],
   "source": [
    "FireplaceQu_order = 'TA', 'Po', 'Fa', 'Gd', 'Ex'\n",
    "HousePrice['FireplaceQu'] = HousePrice['FireplaceQu'].astype('category')\n",
    "HousePrice['FireplaceQu'].cat.set_categories(FireplaceQu_order, ordered=True, inplace=True)"
   ]
  },
  {
   "cell_type": "code",
   "execution_count": 141,
   "id": "1833e882",
   "metadata": {},
   "outputs": [
    {
     "data": {
      "text/plain": [
       "array(['Detchd', 'Attchd', 'BuiltIn', 'Basment', nan, '2Types', 'CarPort'], dtype=object)"
      ]
     },
     "execution_count": 141,
     "metadata": {},
     "output_type": "execute_result"
    }
   ],
   "source": [
    "HousePrice['GarageType'].unique()"
   ]
  },
  {
   "cell_type": "code",
   "execution_count": 143,
   "id": "bb87119c",
   "metadata": {},
   "outputs": [],
   "source": [
    "GarageType_order = 'Detchd', 'Attchd', 'BuiltIn', 'Basment', '2Types', 'CarPort'\n",
    "HousePrice['GarageType'] = HousePrice['GarageType'].astype('category')\n",
    "HousePrice['GarageType'].cat.set_categories(GarageType_order, ordered=True, inplace=True)"
   ]
  },
  {
   "cell_type": "code",
   "execution_count": 146,
   "id": "fa8d16c1",
   "metadata": {},
   "outputs": [
    {
     "data": {
      "text/plain": [
       "['Detchd', 'Attchd', 'BuiltIn', 'Basment', NaN, '2Types', 'CarPort']\n",
       "Categories (6, object): ['Detchd' < 'Attchd' < 'BuiltIn' < 'Basment' < '2Types' < 'CarPort']"
      ]
     },
     "execution_count": 146,
     "metadata": {},
     "output_type": "execute_result"
    }
   ],
   "source": [
    "HousePrice['GarageType'].unique()"
   ]
  },
  {
   "cell_type": "code",
   "execution_count": 147,
   "id": "eaf6da91",
   "metadata": {},
   "outputs": [
    {
     "data": {
      "text/plain": [
       "dtype('float64')"
      ]
     },
     "execution_count": 147,
     "metadata": {},
     "output_type": "execute_result"
    }
   ],
   "source": [
    "HousePrice['GarageYrBlt'].dtype"
   ]
  },
  {
   "cell_type": "code",
   "execution_count": 149,
   "id": "85e80f60",
   "metadata": {},
   "outputs": [
    {
     "data": {
      "text/plain": [
       "array(['Unf', 'Fin', 'RFn', nan], dtype=object)"
      ]
     },
     "execution_count": 149,
     "metadata": {},
     "output_type": "execute_result"
    }
   ],
   "source": [
    "HousePrice['GarageFinish'].unique()"
   ]
  },
  {
   "cell_type": "code",
   "execution_count": 150,
   "id": "7101d492",
   "metadata": {},
   "outputs": [],
   "source": [
    "GarageFinish_order = 'Unf', 'Fin', 'RFn'\n",
    "HousePrice['GarageFinish'] = HousePrice['GarageFinish'].astype('category')\n",
    "HousePrice['GarageFinish'].cat.set_categories(GarageFinish_order, ordered=True, inplace=True)"
   ]
  },
  {
   "cell_type": "code",
   "execution_count": 151,
   "id": "6ece2b6b",
   "metadata": {},
   "outputs": [
    {
     "data": {
      "text/plain": [
       "dtype('float64')"
      ]
     },
     "execution_count": 151,
     "metadata": {},
     "output_type": "execute_result"
    }
   ],
   "source": [
    "HousePrice['GarageCars'].dtype"
   ]
  },
  {
   "cell_type": "code",
   "execution_count": 152,
   "id": "b42ca849",
   "metadata": {},
   "outputs": [
    {
     "data": {
      "text/plain": [
       "dtype('float64')"
      ]
     },
     "execution_count": 152,
     "metadata": {},
     "output_type": "execute_result"
    }
   ],
   "source": [
    "HousePrice['GarageArea'].dtype"
   ]
  },
  {
   "cell_type": "code",
   "execution_count": 154,
   "id": "5038a2c0",
   "metadata": {},
   "outputs": [
    {
     "data": {
      "text/plain": [
       "array(['TA', nan, 'Fa', 'Gd', 'Po', 'Ex'], dtype=object)"
      ]
     },
     "execution_count": 154,
     "metadata": {},
     "output_type": "execute_result"
    }
   ],
   "source": [
    "HousePrice['GarageQual'].unique()"
   ]
  },
  {
   "cell_type": "code",
   "execution_count": 155,
   "id": "2815e340",
   "metadata": {},
   "outputs": [],
   "source": [
    "GarageQual_order = 'TA', 'Po', 'Fa', 'Gd', 'Ex'\n",
    "HousePrice['GarageQual'] = HousePrice['GarageQual'].astype('category')\n",
    "HousePrice['GarageQual'].cat.set_categories(GarageQual_order, ordered=True, inplace=True)"
   ]
  },
  {
   "cell_type": "code",
   "execution_count": 156,
   "id": "9b6317c5",
   "metadata": {},
   "outputs": [
    {
     "data": {
      "text/plain": [
       "array(['TA', 'Po', nan, 'Fa', 'Gd', 'Ex'], dtype=object)"
      ]
     },
     "execution_count": 156,
     "metadata": {},
     "output_type": "execute_result"
    }
   ],
   "source": [
    "HousePrice['GarageCond'].unique()"
   ]
  },
  {
   "cell_type": "code",
   "execution_count": 157,
   "id": "3fce7e30",
   "metadata": {},
   "outputs": [],
   "source": [
    "GarageCond_order = 'TA', 'Po', 'Fa', 'Gd', 'Ex'\n",
    "HousePrice['GarageCond'] = HousePrice['GarageCond'].astype('category')\n",
    "HousePrice['GarageCond'].cat.set_categories(GarageCond_order, ordered=True, inplace=True)"
   ]
  },
  {
   "cell_type": "code",
   "execution_count": 158,
   "id": "56b2d36f",
   "metadata": {},
   "outputs": [
    {
     "data": {
      "text/plain": [
       "array(['Y', 'N', 'P'], dtype=object)"
      ]
     },
     "execution_count": 158,
     "metadata": {},
     "output_type": "execute_result"
    }
   ],
   "source": [
    "HousePrice['PavedDrive'].unique()"
   ]
  },
  {
   "cell_type": "code",
   "execution_count": 159,
   "id": "50055430",
   "metadata": {},
   "outputs": [],
   "source": [
    "PavedDrive_order = 'Y', 'N', 'P'\n",
    "HousePrice['PavedDrive'] = HousePrice['PavedDrive'].astype('category')\n",
    "HousePrice['PavedDrive'].cat.set_categories(PavedDrive_order, ordered=True, inplace=True)"
   ]
  },
  {
   "cell_type": "code",
   "execution_count": 160,
   "id": "40131dfc",
   "metadata": {},
   "outputs": [
    {
     "data": {
      "text/plain": [
       "dtype('int64')"
      ]
     },
     "execution_count": 160,
     "metadata": {},
     "output_type": "execute_result"
    }
   ],
   "source": [
    "HousePrice['WoodDeckSF'].dtype"
   ]
  },
  {
   "cell_type": "code",
   "execution_count": 161,
   "id": "8c6e5895",
   "metadata": {},
   "outputs": [
    {
     "data": {
      "text/plain": [
       "dtype('int64')"
      ]
     },
     "execution_count": 161,
     "metadata": {},
     "output_type": "execute_result"
    }
   ],
   "source": [
    "HousePrice['OpenPorchSF'].dtype"
   ]
  },
  {
   "cell_type": "code",
   "execution_count": 162,
   "id": "6ed912fe",
   "metadata": {},
   "outputs": [
    {
     "data": {
      "text/plain": [
       "dtype('int64')"
      ]
     },
     "execution_count": 162,
     "metadata": {},
     "output_type": "execute_result"
    }
   ],
   "source": [
    "HousePrice['EnclosedPorch'].dtype"
   ]
  },
  {
   "cell_type": "code",
   "execution_count": 163,
   "id": "e9dcd590",
   "metadata": {},
   "outputs": [
    {
     "data": {
      "text/plain": [
       "dtype('int64')"
      ]
     },
     "execution_count": 163,
     "metadata": {},
     "output_type": "execute_result"
    }
   ],
   "source": [
    "HousePrice['3SsnPorch'].dtype"
   ]
  },
  {
   "cell_type": "code",
   "execution_count": 165,
   "id": "3015e706",
   "metadata": {},
   "outputs": [
    {
     "data": {
      "text/plain": [
       "dtype('int64')"
      ]
     },
     "execution_count": 165,
     "metadata": {},
     "output_type": "execute_result"
    }
   ],
   "source": [
    "HousePrice['ScreenPorch'].dtype"
   ]
  },
  {
   "cell_type": "code",
   "execution_count": 166,
   "id": "d291ef03",
   "metadata": {},
   "outputs": [
    {
     "data": {
      "text/plain": [
       "dtype('int64')"
      ]
     },
     "execution_count": 166,
     "metadata": {},
     "output_type": "execute_result"
    }
   ],
   "source": [
    "HousePrice['PoolArea'].dtype"
   ]
  },
  {
   "cell_type": "code",
   "execution_count": 169,
   "id": "f4857891",
   "metadata": {},
   "outputs": [
    {
     "data": {
      "text/plain": [
       "array([nan, 'Ex', 'Gd', 'Fa', 'TA'], dtype=object)"
      ]
     },
     "execution_count": 169,
     "metadata": {},
     "output_type": "execute_result"
    }
   ],
   "source": [
    "HousePrice['PoolQC'].unique()"
   ]
  },
  {
   "cell_type": "code",
   "execution_count": 170,
   "id": "ecc0ed66",
   "metadata": {},
   "outputs": [],
   "source": [
    "PoolQC_order = 'TA', 'Po', 'Fa', 'Gd', 'Ex'\n",
    "HousePrice['PoolQC'] = HousePrice['PoolQC'].astype('category')\n",
    "HousePrice['PoolQC'].cat.set_categories(PoolQC_order, ordered=True, inplace=True)"
   ]
  },
  {
   "cell_type": "code",
   "execution_count": 172,
   "id": "d1ce36a5",
   "metadata": {},
   "outputs": [
    {
     "data": {
      "text/plain": [
       "array([nan, 'GdWo', 'MnPrv', 'GdPrv', 'MnWw'], dtype=object)"
      ]
     },
     "execution_count": 172,
     "metadata": {},
     "output_type": "execute_result"
    }
   ],
   "source": [
    "HousePrice['Fence'].unique()"
   ]
  },
  {
   "cell_type": "code",
   "execution_count": 173,
   "id": "2cf2f490",
   "metadata": {},
   "outputs": [],
   "source": [
    "Fence_order = 'TA', 'Po', 'Fa', 'Gd', 'Ex'\n",
    "HousePrice['Fence'] = HousePrice['Fence'].astype('category')\n",
    "HousePrice['Fence'].cat.set_categories(Fence_order, ordered=True, inplace=True)"
   ]
  },
  {
   "cell_type": "code",
   "execution_count": 175,
   "id": "5b7ba541",
   "metadata": {},
   "outputs": [
    {
     "data": {
      "text/plain": [
       "array([nan, 'Shed', 'Othr', 'Gar2', 'TenC'], dtype=object)"
      ]
     },
     "execution_count": 175,
     "metadata": {},
     "output_type": "execute_result"
    }
   ],
   "source": [
    "HousePrice['MiscFeature'].unique()"
   ]
  },
  {
   "cell_type": "code",
   "execution_count": 176,
   "id": "e5c619c5",
   "metadata": {},
   "outputs": [],
   "source": [
    "MiscFeature_order = 'Shed', 'Othr', 'Gar2', 'TenC'\n",
    "HousePrice['MiscFeature'] = HousePrice['MiscFeature'].astype('category')\n",
    "HousePrice['MiscFeature'].cat.set_categories(MiscFeature_order, ordered=True, inplace=True)"
   ]
  },
  {
   "cell_type": "code",
   "execution_count": 177,
   "id": "84fddd6e",
   "metadata": {},
   "outputs": [
    {
     "data": {
      "text/plain": [
       "dtype('int64')"
      ]
     },
     "execution_count": 177,
     "metadata": {},
     "output_type": "execute_result"
    }
   ],
   "source": [
    "HousePrice['MiscVal'].dtype"
   ]
  },
  {
   "cell_type": "code",
   "execution_count": 178,
   "id": "cfa7ae3a",
   "metadata": {},
   "outputs": [
    {
     "data": {
      "text/plain": [
       "dtype('int64')"
      ]
     },
     "execution_count": 178,
     "metadata": {},
     "output_type": "execute_result"
    }
   ],
   "source": [
    "HousePrice['MoSold'].dtype"
   ]
  },
  {
   "cell_type": "code",
   "execution_count": 180,
   "id": "a3470650",
   "metadata": {},
   "outputs": [
    {
     "data": {
      "text/plain": [
       "dtype('int64')"
      ]
     },
     "execution_count": 180,
     "metadata": {},
     "output_type": "execute_result"
    }
   ],
   "source": [
    "HousePrice['YrSold'].dtype"
   ]
  },
  {
   "cell_type": "code",
   "execution_count": 182,
   "id": "b6a2d593",
   "metadata": {},
   "outputs": [
    {
     "data": {
      "text/plain": [
       "array(['WD ', 'ConLD', 'New', 'Oth', 'ConLw', 'COD', 'CWD', 'Con', 'ConLI', 'VWD'], dtype=object)"
      ]
     },
     "execution_count": 182,
     "metadata": {},
     "output_type": "execute_result"
    }
   ],
   "source": [
    "HousePrice['SaleType'].unique()"
   ]
  },
  {
   "cell_type": "code",
   "execution_count": 183,
   "id": "0bcebce7",
   "metadata": {},
   "outputs": [],
   "source": [
    "SaleType_order = 'WD ', 'ConLD', 'New', 'Oth', 'ConLw', 'COD', 'CWD', 'Con', 'ConLI', 'VWD'\n",
    "HousePrice['SaleType'] = HousePrice['SaleType'].astype('category')\n",
    "HousePrice['SaleType'].cat.set_categories(SaleType_order, ordered=True, inplace=True)"
   ]
  },
  {
   "cell_type": "code",
   "execution_count": 185,
   "id": "7dd08b84",
   "metadata": {},
   "outputs": [
    {
     "data": {
      "text/plain": [
       "array(['Normal', 'Partial', 'AdjLand', 'Abnorml', 'Alloca', 'Family'], dtype=object)"
      ]
     },
     "execution_count": 185,
     "metadata": {},
     "output_type": "execute_result"
    }
   ],
   "source": [
    "HousePrice['SaleCondition'].unique()"
   ]
  },
  {
   "cell_type": "code",
   "execution_count": 183,
   "id": "ad1fdf1f",
   "metadata": {},
   "outputs": [],
   "source": [
    "SaleCondition_order = 'Normal', 'Partial', 'AdjLand', 'Abnorml', 'Alloca', 'Family'\n",
    "HousePrice['SaleCondition'] = HousePrice['SaleCondition'].astype('category')\n",
    "HousePrice['SaleCondition'].cat.set_categories(SaleCondition_order, ordered=True, inplace=True)"
   ]
  },
  {
   "cell_type": "code",
   "execution_count": null,
   "id": "a9039243",
   "metadata": {},
   "outputs": [],
   "source": []
  }
 ],
 "metadata": {
  "kernelspec": {
   "display_name": "Python 3",
   "language": "python",
   "name": "python3"
  },
  "language_info": {
   "codemirror_mode": {
    "name": "ipython",
    "version": 3
   },
   "file_extension": ".py",
   "mimetype": "text/x-python",
   "name": "python",
   "nbconvert_exporter": "python",
   "pygments_lexer": "ipython3",
   "version": "3.8.8"
  }
 },
 "nbformat": 4,
 "nbformat_minor": 5
}
