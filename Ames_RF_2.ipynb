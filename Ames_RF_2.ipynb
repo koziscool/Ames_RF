{
 "cells": [
  {
   "cell_type": "code",
   "execution_count": 2,
   "id": "0665f989",
   "metadata": {},
   "outputs": [],
   "source": [
    "import fastbook\n",
    "from fastbook import *\n",
    "from pandas.api.types import is_string_dtype, is_numeric_dtype, is_categorical_dtype\n",
    "from fastai.tabular.all import *\n",
    "from sklearn.ensemble import RandomForestRegressor\n",
    "from sklearn.tree import DecisionTreeRegressor\n",
    "from dtreeviz.trees import *\n",
    "from IPython.display import Image, display_svg, SVG\n",
    "\n",
    "pd.options.display.max_rows = 20\n",
    "pd.options.display.max_columns = 8"
   ]
  },
  {
   "cell_type": "code",
   "execution_count": 3,
   "id": "5e974650",
   "metadata": {},
   "outputs": [
    {
     "name": "stdout",
     "output_type": "stream",
     "text": [
      "Current working directory: /home/koz/koz/NYCDSA/AmesWorking\n"
     ]
    }
   ],
   "source": [
    "import os\n",
    "import pandas as pd\n",
    "import numpy as np\n",
    "\n",
    "cwd = os.getcwd()\n",
    "print(\"Current working directory: {0}\".format(cwd))\n",
    "\n",
    "realestate = pd.read_csv(\"./Ames Real Estate Data.csv\", low_memory = False)\n",
    "HousePrice = pd.read_csv(\"./Ames_HousePrice.csv\")"
   ]
  },
  {
   "cell_type": "code",
   "execution_count": 4,
   "id": "2070cbc7",
   "metadata": {},
   "outputs": [
    {
     "data": {
      "text/plain": [
       "(22213, 91)"
      ]
     },
     "execution_count": 4,
     "metadata": {},
     "output_type": "execute_result"
    }
   ],
   "source": [
    "realestate.shape"
   ]
  },
  {
   "cell_type": "code",
   "execution_count": 5,
   "id": "acb63431",
   "metadata": {},
   "outputs": [
    {
     "data": {
      "text/plain": [
       "(2580, 82)"
      ]
     },
     "execution_count": 5,
     "metadata": {},
     "output_type": "execute_result"
    }
   ],
   "source": [
    "HousePrice.shape"
   ]
  },
  {
   "cell_type": "code",
   "execution_count": 7,
   "id": "73cee0d5",
   "metadata": {},
   "outputs": [
    {
     "data": {
      "text/html": [
       "<div>\n",
       "<style scoped>\n",
       "    .dataframe tbody tr th:only-of-type {\n",
       "        vertical-align: middle;\n",
       "    }\n",
       "\n",
       "    .dataframe tbody tr th {\n",
       "        vertical-align: top;\n",
       "    }\n",
       "\n",
       "    .dataframe thead th {\n",
       "        text-align: right;\n",
       "    }\n",
       "</style>\n",
       "<table border=\"1\" class=\"dataframe\">\n",
       "  <thead>\n",
       "    <tr style=\"text-align: right;\">\n",
       "      <th></th>\n",
       "      <th>Unnamed: 0</th>\n",
       "      <th>PID</th>\n",
       "      <th>GrLivArea</th>\n",
       "      <th>SalePrice</th>\n",
       "      <th>...</th>\n",
       "      <th>MoSold</th>\n",
       "      <th>YrSold</th>\n",
       "      <th>SaleType</th>\n",
       "      <th>SaleCondition</th>\n",
       "    </tr>\n",
       "  </thead>\n",
       "  <tbody>\n",
       "    <tr>\n",
       "      <th>0</th>\n",
       "      <td>1</td>\n",
       "      <td>909176150</td>\n",
       "      <td>856</td>\n",
       "      <td>126000</td>\n",
       "      <td>...</td>\n",
       "      <td>3</td>\n",
       "      <td>2010</td>\n",
       "      <td>WD</td>\n",
       "      <td>Normal</td>\n",
       "    </tr>\n",
       "    <tr>\n",
       "      <th>1</th>\n",
       "      <td>2</td>\n",
       "      <td>905476230</td>\n",
       "      <td>1049</td>\n",
       "      <td>139500</td>\n",
       "      <td>...</td>\n",
       "      <td>2</td>\n",
       "      <td>2009</td>\n",
       "      <td>WD</td>\n",
       "      <td>Normal</td>\n",
       "    </tr>\n",
       "    <tr>\n",
       "      <th>2</th>\n",
       "      <td>3</td>\n",
       "      <td>911128020</td>\n",
       "      <td>1001</td>\n",
       "      <td>124900</td>\n",
       "      <td>...</td>\n",
       "      <td>11</td>\n",
       "      <td>2007</td>\n",
       "      <td>WD</td>\n",
       "      <td>Normal</td>\n",
       "    </tr>\n",
       "    <tr>\n",
       "      <th>3</th>\n",
       "      <td>4</td>\n",
       "      <td>535377150</td>\n",
       "      <td>1039</td>\n",
       "      <td>114000</td>\n",
       "      <td>...</td>\n",
       "      <td>5</td>\n",
       "      <td>2009</td>\n",
       "      <td>WD</td>\n",
       "      <td>Normal</td>\n",
       "    </tr>\n",
       "  </tbody>\n",
       "</table>\n",
       "<p>4 rows × 82 columns</p>\n",
       "</div>"
      ],
      "text/plain": [
       "   Unnamed: 0        PID  GrLivArea  SalePrice  ...  MoSold YrSold  SaleType  \\\n",
       "0           1  909176150        856     126000  ...       3   2010       WD    \n",
       "1           2  905476230       1049     139500  ...       2   2009       WD    \n",
       "2           3  911128020       1001     124900  ...      11   2007       WD    \n",
       "3           4  535377150       1039     114000  ...       5   2009       WD    \n",
       "\n",
       "   SaleCondition  \n",
       "0         Normal  \n",
       "1         Normal  \n",
       "2         Normal  \n",
       "3         Normal  \n",
       "\n",
       "[4 rows x 82 columns]"
      ]
     },
     "execution_count": 7,
     "metadata": {},
     "output_type": "execute_result"
    }
   ],
   "source": [
    "HousePrice[:4]"
   ]
  },
  {
   "cell_type": "code",
   "execution_count": 39,
   "id": "6e311f0c",
   "metadata": {},
   "outputs": [],
   "source": [
    "dep_var = 'SalePrice'\n",
    "HousePrice[dep_var] = np.log(HousePrice[dep_var])"
   ]
  },
  {
   "cell_type": "code",
   "execution_count": 9,
   "id": "3c8a5b93",
   "metadata": {},
   "outputs": [
    {
     "data": {
      "text/plain": [
       "0     30\n",
       "1    120\n",
       "2     30\n",
       "3     70\n",
       "Name: MSSubClass, dtype: int64"
      ]
     },
     "execution_count": 9,
     "metadata": {},
     "output_type": "execute_result"
    }
   ],
   "source": [
    "HousePrice[:4][\"MSSubClass\"]"
   ]
  },
  {
   "cell_type": "code",
   "execution_count": 40,
   "id": "ff35de5f",
   "metadata": {},
   "outputs": [
    {
     "data": {
      "text/plain": [
       "Index(['Unnamed: 0', 'PID', 'GrLivArea', 'SalePrice', 'MSSubClass',\n",
       "       'LotFrontage', 'LotArea', 'OverallQual', 'OverallCond', 'YearBuilt',\n",
       "       'YearRemodAdd', 'MasVnrArea', 'BsmtFinSF1', 'BsmtFinSF2', 'BsmtUnfSF',\n",
       "       'TotalBsmtSF', '1stFlrSF', '2ndFlrSF', 'LowQualFinSF', 'BsmtFullBath',\n",
       "       'BsmtHalfBath', 'FullBath', 'HalfBath', 'BedroomAbvGr', 'KitchenAbvGr',\n",
       "       'TotRmsAbvGrd', 'Fireplaces', 'GarageYrBlt', 'GarageCars', 'GarageArea',\n",
       "       'WoodDeckSF', 'OpenPorchSF', 'EnclosedPorch', '3SsnPorch',\n",
       "       'ScreenPorch', 'PoolArea', 'MiscVal', 'MoSold', 'YrSold'],\n",
       "      dtype='object')"
      ]
     },
     "execution_count": 40,
     "metadata": {},
     "output_type": "execute_result"
    }
   ],
   "source": [
    "numeric_columns = HousePrice._get_numeric_data().columns\n",
    "numeric_columns"
   ]
  },
  {
   "cell_type": "code",
   "execution_count": 41,
   "id": "48bc2165",
   "metadata": {},
   "outputs": [],
   "source": [
    "numeric_df = HousePrice[list(set(numeric_columns) - set(['PID', 'Unnamed: 0',\"MSSubClass\"]))]"
   ]
  },
  {
   "cell_type": "code",
   "execution_count": 42,
   "id": "6ebb718f",
   "metadata": {},
   "outputs": [
    {
     "data": {
      "text/plain": [
       "(2580, 36)"
      ]
     },
     "execution_count": 42,
     "metadata": {},
     "output_type": "execute_result"
    }
   ],
   "source": [
    "numeric_df.shape"
   ]
  },
  {
   "cell_type": "code",
   "execution_count": 36,
   "id": "f7b3fa07",
   "metadata": {},
   "outputs": [
    {
     "data": {
      "text/plain": [
       "Index(['LotFrontage', 'Alley', 'MasVnrType', 'MasVnrArea', 'BsmtQual',\n",
       "       'BsmtCond', 'BsmtExposure', 'BsmtFinType1', 'BsmtFinSF1',\n",
       "       'BsmtFinType2', 'BsmtFinSF2', 'BsmtUnfSF', 'TotalBsmtSF', 'Electrical',\n",
       "       'BsmtFullBath', 'BsmtHalfBath', 'FireplaceQu', 'GarageType',\n",
       "       'GarageYrBlt', 'GarageFinish', 'GarageCars', 'GarageArea', 'GarageQual',\n",
       "       'GarageCond', 'PoolQC', 'Fence', 'MiscFeature'],\n",
       "      dtype='object')"
      ]
     },
     "execution_count": 36,
     "metadata": {},
     "output_type": "execute_result"
    }
   ],
   "source": [
    "missingRows = HousePrice.isnull().any(axis = 1)\n",
    "missingCols = HousePrice.isnull().any(axis = 0)\n",
    "HousePrice.columns[missingCols]"
   ]
  },
  {
   "cell_type": "code",
   "execution_count": 43,
   "id": "b85b74e0",
   "metadata": {},
   "outputs": [
    {
     "data": {
      "text/plain": [
       "(2265, 36)"
      ]
     },
     "execution_count": 43,
     "metadata": {},
     "output_type": "execute_result"
    }
   ],
   "source": [
    "test_cond = numeric_df['YrSold'] == 2010\n",
    "remainder_cond = numeric_df['YrSold'] < 2010\n",
    "numeric_test = numeric_df[test_cond]\n",
    "numeric_test.shape\n",
    "numeric_train_and_valid = numeric_df[remainder_cond]\n",
    "numeric_train_and_valid.shape"
   ]
  },
  {
   "cell_type": "code",
   "execution_count": 44,
   "id": "405c83a1",
   "metadata": {},
   "outputs": [],
   "source": [
    "valid_cond = numeric_train_and_valid['YrSold'] == 2009\n",
    "train_idx = np.where(~valid_cond)[0]\n",
    "valid_idx = np.where(valid_cond)[0]\n",
    "\n",
    "splits = (list(train_idx), list(valid_idx))"
   ]
  },
  {
   "cell_type": "code",
   "execution_count": 45,
   "id": "7a6b6648",
   "metadata": {},
   "outputs": [],
   "source": [
    "procs = [ Categorify, FillMissing ]"
   ]
  },
  {
   "cell_type": "code",
   "execution_count": 48,
   "id": "a4c67ab6",
   "metadata": {},
   "outputs": [
    {
     "data": {
      "text/plain": [
       "(1680, 585)"
      ]
     },
     "execution_count": 48,
     "metadata": {},
     "output_type": "execute_result"
    }
   ],
   "source": [
    "cont, cat = cont_cat_split(numeric_train_and_valid, 1, dep_var=dep_var)\n",
    "# print(cont, cat)\n",
    "# import pdb; pdb.set_trace()\n",
    "tpo = TabularPandas(numeric_train_and_valid, procs, cont, cat, y_names=dep_var, splits=splits)\n",
    "len(tpo.train), len(tpo.valid)"
   ]
  },
  {
   "cell_type": "code",
   "execution_count": 49,
   "id": "82a76b65",
   "metadata": {},
   "outputs": [],
   "source": [
    "def root_mse(pred, y): return round(math.sqrt(((pred-y)**2).mean()), 6)\n",
    "def model_rmse(m, xs, y): return root_mse( m.predict(xs), y)"
   ]
  },
  {
   "cell_type": "code",
   "execution_count": 50,
   "id": "850dd039",
   "metadata": {},
   "outputs": [],
   "source": [
    "xs, y = tpo.train.xs, tpo.train.y\n",
    "valid_xs, valid_y = tpo.valid.xs, tpo.valid.y"
   ]
  },
  {
   "cell_type": "code",
   "execution_count": 51,
   "id": "7e3ded5f",
   "metadata": {},
   "outputs": [
    {
     "data": {
      "text/plain": [
       "DecisionTreeRegressor()"
      ]
     },
     "execution_count": 51,
     "metadata": {},
     "output_type": "execute_result"
    }
   ],
   "source": [
    "m = DecisionTreeRegressor()\n",
    "m.fit(xs, y)"
   ]
  },
  {
   "cell_type": "code",
   "execution_count": 52,
   "id": "8cdfdef6",
   "metadata": {},
   "outputs": [
    {
     "data": {
      "text/plain": [
       "0.001154"
      ]
     },
     "execution_count": 52,
     "metadata": {},
     "output_type": "execute_result"
    }
   ],
   "source": [
    "model_rmse(m, xs, y)"
   ]
  },
  {
   "cell_type": "code",
   "execution_count": 53,
   "id": "acf6defb",
   "metadata": {},
   "outputs": [
    {
     "data": {
      "text/plain": [
       "0.33389"
      ]
     },
     "execution_count": 53,
     "metadata": {},
     "output_type": "execute_result"
    }
   ],
   "source": [
    "model_rmse(m, valid_xs, valid_y)"
   ]
  },
  {
   "cell_type": "code",
   "execution_count": 33,
   "id": "a5c91fff",
   "metadata": {},
   "outputs": [],
   "source": [
    "def rf(xs, y, n_estimators=400, max_samples=200,\n",
    "       max_features=0.5, min_samples_leaf=5, **kwargs):\n",
    "    return RandomForestRegressor(n_jobs=-1, n_estimators=n_estimators,\n",
    "        max_samples=max_samples, max_features=max_features,\n",
    "        min_samples_leaf=min_samples_leaf, oob_score=True).fit(xs, y)"
   ]
  },
  {
   "cell_type": "code",
   "execution_count": 54,
   "id": "32bddb98",
   "metadata": {},
   "outputs": [],
   "source": [
    "m2 = rf(xs, y);"
   ]
  },
  {
   "cell_type": "code",
   "execution_count": 55,
   "id": "688dba73",
   "metadata": {},
   "outputs": [
    {
     "data": {
      "text/plain": [
       "0.134358"
      ]
     },
     "execution_count": 55,
     "metadata": {},
     "output_type": "execute_result"
    }
   ],
   "source": [
    "model_rmse(m2, xs, y)"
   ]
  },
  {
   "cell_type": "code",
   "execution_count": 56,
   "id": "4b8728b5",
   "metadata": {},
   "outputs": [
    {
     "data": {
      "text/plain": [
       "0.257969"
      ]
     },
     "execution_count": 56,
     "metadata": {},
     "output_type": "execute_result"
    }
   ],
   "source": [
    "model_rmse(m2, valid_xs, valid_y)"
   ]
  }
 ],
 "metadata": {
  "kernelspec": {
   "display_name": "Python 3",
   "language": "python",
   "name": "python3"
  },
  "language_info": {
   "codemirror_mode": {
    "name": "ipython",
    "version": 3
   },
   "file_extension": ".py",
   "mimetype": "text/x-python",
   "name": "python",
   "nbconvert_exporter": "python",
   "pygments_lexer": "ipython3",
   "version": "3.8.8"
  }
 },
 "nbformat": 4,
 "nbformat_minor": 5
}
