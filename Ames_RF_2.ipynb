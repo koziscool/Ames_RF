{
 "cells": [
  {
   "cell_type": "code",
   "execution_count": 85,
   "id": "c46b0189",
   "metadata": {},
   "outputs": [],
   "source": [
    "import fastbook\n",
    "from fastbook import *\n",
    "from pandas.api.types import is_string_dtype, is_numeric_dtype, is_categorical_dtype\n",
    "from fastai.tabular.all import *\n",
    "from sklearn.ensemble import RandomForestRegressor\n",
    "from sklearn.tree import DecisionTreeRegressor\n",
    "from sklearn.ensemble import GradientBoostingRegressor\n",
    "from sklearn.linear_model import LinearRegression\n",
    "from dtreeviz.trees import *\n",
    "from IPython.display import Image, display_svg, SVG\n",
    "\n",
    "pd.options.display.max_rows = 20\n",
    "pd.options.display.max_columns = 8"
   ]
  },
  {
   "cell_type": "code",
   "execution_count": 39,
   "id": "3891fb99",
   "metadata": {},
   "outputs": [],
   "source": [
    "import matplotlib\n",
    "import matplotlib.pyplot as plt\n",
    "import plotly.express as px\n",
    "import seaborn as sns"
   ]
  },
  {
   "cell_type": "code",
   "execution_count": 40,
   "id": "066c1983",
   "metadata": {},
   "outputs": [
    {
     "name": "stdout",
     "output_type": "stream",
     "text": [
      "Current working directory: /home/koz/koz/NYCDSA/AmesWorking\n"
     ]
    }
   ],
   "source": [
    "import os\n",
    "import pandas as pd\n",
    "import numpy as np\n",
    "\n",
    "cwd = os.getcwd()\n",
    "print(\"Current working directory: {0}\".format(cwd))\n",
    "\n",
    "realestate = pd.read_csv(\"./Ames Real Estate Data.csv\", low_memory = False)\n",
    "HousePrice = pd.read_csv(\"./Ames_HousePrice.csv\")"
   ]
  },
  {
   "cell_type": "code",
   "execution_count": 41,
   "id": "f650bca7",
   "metadata": {},
   "outputs": [
    {
     "data": {
      "text/plain": [
       "(22213, 91)"
      ]
     },
     "execution_count": 41,
     "metadata": {},
     "output_type": "execute_result"
    }
   ],
   "source": [
    "realestate.shape"
   ]
  },
  {
   "cell_type": "code",
   "execution_count": 42,
   "id": "9868044c",
   "metadata": {},
   "outputs": [
    {
     "data": {
      "text/plain": [
       "(2580, 82)"
      ]
     },
     "execution_count": 42,
     "metadata": {},
     "output_type": "execute_result"
    }
   ],
   "source": [
    "HousePrice.shape"
   ]
  },
  {
   "cell_type": "code",
   "execution_count": 43,
   "id": "8e608d3e",
   "metadata": {},
   "outputs": [
    {
     "data": {
      "text/html": [
       "<div>\n",
       "<style scoped>\n",
       "    .dataframe tbody tr th:only-of-type {\n",
       "        vertical-align: middle;\n",
       "    }\n",
       "\n",
       "    .dataframe tbody tr th {\n",
       "        vertical-align: top;\n",
       "    }\n",
       "\n",
       "    .dataframe thead th {\n",
       "        text-align: right;\n",
       "    }\n",
       "</style>\n",
       "<table border=\"1\" class=\"dataframe\">\n",
       "  <thead>\n",
       "    <tr style=\"text-align: right;\">\n",
       "      <th></th>\n",
       "      <th>Unnamed: 0</th>\n",
       "      <th>PID</th>\n",
       "      <th>GrLivArea</th>\n",
       "      <th>SalePrice</th>\n",
       "      <th>...</th>\n",
       "      <th>MoSold</th>\n",
       "      <th>YrSold</th>\n",
       "      <th>SaleType</th>\n",
       "      <th>SaleCondition</th>\n",
       "    </tr>\n",
       "  </thead>\n",
       "  <tbody>\n",
       "    <tr>\n",
       "      <th>0</th>\n",
       "      <td>1</td>\n",
       "      <td>909176150</td>\n",
       "      <td>856</td>\n",
       "      <td>126000</td>\n",
       "      <td>...</td>\n",
       "      <td>3</td>\n",
       "      <td>2010</td>\n",
       "      <td>WD</td>\n",
       "      <td>Normal</td>\n",
       "    </tr>\n",
       "    <tr>\n",
       "      <th>1</th>\n",
       "      <td>2</td>\n",
       "      <td>905476230</td>\n",
       "      <td>1049</td>\n",
       "      <td>139500</td>\n",
       "      <td>...</td>\n",
       "      <td>2</td>\n",
       "      <td>2009</td>\n",
       "      <td>WD</td>\n",
       "      <td>Normal</td>\n",
       "    </tr>\n",
       "    <tr>\n",
       "      <th>2</th>\n",
       "      <td>3</td>\n",
       "      <td>911128020</td>\n",
       "      <td>1001</td>\n",
       "      <td>124900</td>\n",
       "      <td>...</td>\n",
       "      <td>11</td>\n",
       "      <td>2007</td>\n",
       "      <td>WD</td>\n",
       "      <td>Normal</td>\n",
       "    </tr>\n",
       "    <tr>\n",
       "      <th>3</th>\n",
       "      <td>4</td>\n",
       "      <td>535377150</td>\n",
       "      <td>1039</td>\n",
       "      <td>114000</td>\n",
       "      <td>...</td>\n",
       "      <td>5</td>\n",
       "      <td>2009</td>\n",
       "      <td>WD</td>\n",
       "      <td>Normal</td>\n",
       "    </tr>\n",
       "  </tbody>\n",
       "</table>\n",
       "<p>4 rows × 82 columns</p>\n",
       "</div>"
      ],
      "text/plain": [
       "   Unnamed: 0        PID  GrLivArea  SalePrice  ...  MoSold YrSold  SaleType  \\\n",
       "0           1  909176150        856     126000  ...       3   2010       WD    \n",
       "1           2  905476230       1049     139500  ...       2   2009       WD    \n",
       "2           3  911128020       1001     124900  ...      11   2007       WD    \n",
       "3           4  535377150       1039     114000  ...       5   2009       WD    \n",
       "\n",
       "   SaleCondition  \n",
       "0         Normal  \n",
       "1         Normal  \n",
       "2         Normal  \n",
       "3         Normal  \n",
       "\n",
       "[4 rows x 82 columns]"
      ]
     },
     "execution_count": 43,
     "metadata": {},
     "output_type": "execute_result"
    }
   ],
   "source": [
    "HousePrice[:4]"
   ]
  },
  {
   "cell_type": "code",
   "execution_count": 44,
   "id": "328202db",
   "metadata": {},
   "outputs": [],
   "source": [
    "dep_var = 'SalePrice'\n",
    "HousePrice[dep_var] = np.log10(HousePrice[dep_var])"
   ]
  },
  {
   "cell_type": "code",
   "execution_count": 45,
   "id": "bb7594f4",
   "metadata": {
    "scrolled": true
   },
   "outputs": [
    {
     "data": {
      "text/plain": [
       "0     30\n",
       "1    120\n",
       "2     30\n",
       "3     70\n",
       "Name: MSSubClass, dtype: int64"
      ]
     },
     "execution_count": 45,
     "metadata": {},
     "output_type": "execute_result"
    }
   ],
   "source": [
    "HousePrice[:4][\"MSSubClass\"]"
   ]
  },
  {
   "cell_type": "code",
   "execution_count": 46,
   "id": "9d6ec028",
   "metadata": {},
   "outputs": [
    {
     "name": "stdout",
     "output_type": "stream",
     "text": [
      "Empty DataFrame\n",
      "Columns: [Unnamed: 0, PID, GrLivArea, SalePrice, MSSubClass, MSZoning, LotFrontage, LotArea, Street, Alley, LotShape, LandContour, Utilities, LotConfig, LandSlope, Neighborhood, Condition1, Condition2, BldgType, HouseStyle, OverallQual, OverallCond, YearBuilt, YearRemodAdd, RoofStyle, RoofMatl, Exterior1st, Exterior2nd, MasVnrType, MasVnrArea, ExterQual, ExterCond, Foundation, BsmtQual, BsmtCond, BsmtExposure, BsmtFinType1, BsmtFinSF1, BsmtFinType2, BsmtFinSF2, BsmtUnfSF, TotalBsmtSF, Heating, HeatingQC, CentralAir, Electrical, 1stFlrSF, 2ndFlrSF, LowQualFinSF, BsmtFullBath, BsmtHalfBath, FullBath, HalfBath, BedroomAbvGr, KitchenAbvGr, KitchenQual, TotRmsAbvGrd, Functional, Fireplaces, FireplaceQu, GarageType, GarageYrBlt, GarageFinish, GarageCars, GarageArea, GarageQual, GarageCond, PavedDrive, WoodDeckSF, OpenPorchSF, EnclosedPorch, 3SsnPorch, ScreenPorch, PoolArea, PoolQC, Fence, MiscFeature, MiscVal, MoSold, YrSold, SaleType, SaleCondition]\n",
      "Index: []\n",
      "\n",
      "[0 rows x 82 columns]\n"
     ]
    }
   ],
   "source": [
    "temp_df = HousePrice[ HousePrice[\"MSZoning\"] == \"RP\" ]\n",
    "temp_df.shape\n",
    "print(temp_df)"
   ]
  },
  {
   "cell_type": "code",
   "execution_count": 47,
   "id": "efdbde89",
   "metadata": {},
   "outputs": [
    {
     "data": {
      "text/plain": [
       "(2560, 82)"
      ]
     },
     "execution_count": 47,
     "metadata": {},
     "output_type": "execute_result"
    }
   ],
   "source": [
    "HousePrice = HousePrice[HousePrice['MSZoning'].isin([ 'FV','RH','RL','RM','RP' ])]\n",
    "HousePrice.shape"
   ]
  },
  {
   "cell_type": "code",
   "execution_count": 48,
   "id": "4d193223",
   "metadata": {},
   "outputs": [
    {
     "data": {
      "text/plain": [
       "(2560, 82)"
      ]
     },
     "execution_count": 48,
     "metadata": {},
     "output_type": "execute_result"
    }
   ],
   "source": [
    "HousePrice.dropna()\n",
    "HousePrice.shape"
   ]
  },
  {
   "cell_type": "code",
   "execution_count": 12,
   "id": "a1fe8b7f",
   "metadata": {},
   "outputs": [
    {
     "data": {
      "text/plain": [
       "Index(['Unnamed: 0', 'PID', 'GrLivArea', 'SalePrice', 'MSSubClass',\n",
       "       'LotFrontage', 'LotArea', 'OverallQual', 'OverallCond', 'YearBuilt',\n",
       "       'YearRemodAdd', 'MasVnrArea', 'BsmtFinSF1', 'BsmtFinSF2', 'BsmtUnfSF',\n",
       "       'TotalBsmtSF', '1stFlrSF', '2ndFlrSF', 'LowQualFinSF', 'BsmtFullBath',\n",
       "       'BsmtHalfBath', 'FullBath', 'HalfBath', 'BedroomAbvGr', 'KitchenAbvGr',\n",
       "       'TotRmsAbvGrd', 'Fireplaces', 'GarageYrBlt', 'GarageCars', 'GarageArea',\n",
       "       'WoodDeckSF', 'OpenPorchSF', 'EnclosedPorch', '3SsnPorch',\n",
       "       'ScreenPorch', 'PoolArea', 'MiscVal', 'MoSold', 'YrSold'],\n",
       "      dtype='object')"
      ]
     },
     "execution_count": 12,
     "metadata": {},
     "output_type": "execute_result"
    }
   ],
   "source": [
    "numeric_columns = HousePrice._get_numeric_data().columns\n",
    "numeric_columns"
   ]
  },
  {
   "cell_type": "code",
   "execution_count": 13,
   "id": "48154d5c",
   "metadata": {},
   "outputs": [],
   "source": [
    "numeric_df = HousePrice[list(set(numeric_columns) - set(['PID', 'Unnamed: 0',\"MSSubClass\"]))]"
   ]
  },
  {
   "cell_type": "code",
   "execution_count": 14,
   "id": "3fc9d8f5",
   "metadata": {},
   "outputs": [
    {
     "data": {
      "text/plain": [
       "(2560, 36)"
      ]
     },
     "execution_count": 14,
     "metadata": {},
     "output_type": "execute_result"
    }
   ],
   "source": [
    "numeric_df.shape"
   ]
  },
  {
   "cell_type": "code",
   "execution_count": 36,
   "id": "cbdbd7dc",
   "metadata": {},
   "outputs": [
    {
     "data": {
      "text/plain": [
       "(2560, 78)"
      ]
     },
     "execution_count": 36,
     "metadata": {},
     "output_type": "execute_result"
    }
   ],
   "source": [
    "# missingRows = HousePrice.isnull().any(axis = 1)\n",
    "# missingCols = HousePrice.isnull().any(axis = 0)\n",
    "# HousePrice.columns[missingCols]\n"
   ]
  },
  {
   "cell_type": "code",
   "execution_count": 16,
   "id": "3cdfba6c",
   "metadata": {},
   "outputs": [
    {
     "data": {
      "text/plain": [
       "Text(0.5, 1.0, 'Proportion of Missing Values')"
      ]
     },
     "execution_count": 16,
     "metadata": {},
     "output_type": "execute_result"
    },
    {
     "data": {
      "image/png": "[encoded data removed]",
      "text/plain": [
       "<Figure size 640x480 with 1 Axes>"
      ]
     },
     "metadata": {},
     "output_type": "display_data"
    }
   ],
   "source": [
    "#count NA\n",
    "prop_miss = HousePrice.isna().mean().sort_values(ascending = False)\n",
    "prop_miss = prop_miss[prop_miss>0].reset_index()\n",
    "prop_miss.columns = [\"Variable\",\"Proportion missing\" ]\n",
    "plt.rcdefaults()\n",
    "fig,ax = plt.subplots()\n",
    "\n",
    "ax.barh(prop_miss[\"Variable\"], prop_miss[\"Proportion missing\"])\n",
    "ax.set_xlabel(\"Proportion\")\n",
    "ax.set_title(\"Proportion of Missing Values\")"
   ]
  },
  {
   "cell_type": "code",
   "execution_count": 17,
   "id": "d8e0b09e",
   "metadata": {},
   "outputs": [],
   "source": [
    "HousePrice = HousePrice.drop(['PoolQC', 'MiscFeature','Alley','Fence'], axis = 1)"
   ]
  },
  {
   "cell_type": "code",
   "execution_count": 18,
   "id": "0997936b",
   "metadata": {},
   "outputs": [],
   "source": [
    "def cat_miss(var, value): \n",
    "    mis_var = HousePrice[var].isna()\n",
    "    HousePrice.loc[mis_var,var]= value\n",
    "cat_miss('Electrical', 'SBrkr')  #impute Electrical missing with the most frequent value\n",
    "cat_miss('MasVnrType', 'None')\n",
    "cat_miss('FireplaceQu','No Fireplace')\n",
    "\n",
    "def num_miss(var, value): \n",
    "    HousePrice[var] = HousePrice[var].fillna(value)\n",
    "    return \n",
    "    \n",
    "num_miss('BsmtFullBath', 0)\n",
    "num_miss('BsmtHalfBath', 0)\n",
    "num_miss('GarageCars', 2)\n",
    "num_miss('GarageArea', \\\n",
    "         HousePrice[HousePrice['GarageCars']==2].mean()['GarageArea'])\n",
    "num_miss('MasVnrArea',0)"
   ]
  },
  {
   "cell_type": "code",
   "execution_count": 19,
   "id": "c3bdc2f5",
   "metadata": {},
   "outputs": [],
   "source": [
    "gr_var = ['GarageFinish', 'GarageQual', 'GarageYrBlt','GarageCond', 'GarageType']\n",
    "HousePrice[gr_var] = HousePrice[gr_var].fillna('No Garage')\n",
    "bsm_var = ['BsmtExposure','BsmtFinType1','BsmtFinType2','BsmtCond','BsmtQual']\n",
    "HousePrice[bsm_var] = HousePrice[bsm_var].fillna('No Basement')\n",
    "num_bsmt = ['BsmtFinSF1', 'BsmtFinSF2','BsmtUnfSF', 'TotalBsmtSF']\n",
    "HousePrice[num_bsmt] = HousePrice[num_bsmt].fillna(0)\n",
    "# Impute LotFrontage using the type of dwelling in the sell\n",
    "\n",
    "HousePrice1 = HousePrice[['MSSubClass','LotFrontage']]\n",
    "\n",
    "# LF_dict = HousePrice1.groupby('MSSubClass').mean().to_dict()\n",
    "# rowmissing = HousePrice1.LotFrontage.isnull()\n",
    "# HousePrice1.loc[rowmissing,'LotFrontage']= \\\n",
    "#    HousePrice1[rowmissing].apply(lambda x: LF_dict['LotFrontage'][x[0]], axis = 1)\n",
    "# # one LotFrontage is missing because of missing group mean(only one value). \n",
    "# # Because the total LotArea in this observation is quite small, I will use the the smallest group mean to impute\n",
    "# test = HousePrice1['LotFrontage'].isnull()\n",
    "# HousePrice1 = HousePrice1.fillna(HousePrice1.groupby('MSSubClass').mean().min())\n",
    "# HousePrice[['MSSubClass','LotFrontage']] = HousePrice1\n",
    "\n",
    "# HousePrice.info()"
   ]
  },
  {
   "cell_type": "code",
   "execution_count": 20,
   "id": "5ee0287e",
   "metadata": {},
   "outputs": [
    {
     "data": {
      "text/plain": [
       "(2560, 390)"
      ]
     },
     "execution_count": 20,
     "metadata": {},
     "output_type": "execute_result"
    }
   ],
   "source": [
    "all_columns = HousePrice.columns\n",
    "num_cols = HousePrice._get_numeric_data().columns\n",
    "categorical_cols = list(set(all_columns) - set(num_cols))\n",
    "HousePrice_Transform = pd.get_dummies(HousePrice, columns = categorical_cols, drop_first = False)\n",
    "HousePrice_Transform.shape"
   ]
  },
  {
   "cell_type": "code",
   "execution_count": 21,
   "id": "a9171214",
   "metadata": {},
   "outputs": [
    {
     "data": {
      "text/plain": [
       "(2246, 390)"
      ]
     },
     "execution_count": 21,
     "metadata": {},
     "output_type": "execute_result"
    }
   ],
   "source": [
    "test_cond = HousePrice_Transform['YrSold'] == 2010\n",
    "remainder_cond = HousePrice_Transform['YrSold'] < 2010\n",
    "HousePrice_test = HousePrice_Transform[test_cond]\n",
    "HousePrice_test.shape\n",
    "HousePrice_train_and_valid = HousePrice_Transform[remainder_cond]\n",
    "HousePrice_train_and_valid.shape"
   ]
  },
  {
   "cell_type": "code",
   "execution_count": 22,
   "id": "a47fc47c",
   "metadata": {},
   "outputs": [],
   "source": [
    "valid_cond = HousePrice_train_and_valid['YrSold'] == 2009\n",
    "train_idx = np.where(~valid_cond)[0]\n",
    "valid_idx = np.where(valid_cond)[0]\n",
    "\n",
    "splits = (list(train_idx), list(valid_idx))"
   ]
  },
  {
   "cell_type": "code",
   "execution_count": 23,
   "id": "3327eda6",
   "metadata": {},
   "outputs": [],
   "source": [
    "procs = [ Categorify, FillMissing ]"
   ]
  },
  {
   "cell_type": "code",
   "execution_count": 24,
   "id": "de0f1bf9",
   "metadata": {},
   "outputs": [
    {
     "data": {
      "text/plain": [
       "(1665, 581)"
      ]
     },
     "execution_count": 24,
     "metadata": {},
     "output_type": "execute_result"
    }
   ],
   "source": [
    "cont, cat = cont_cat_split(HousePrice_train_and_valid, 1, dep_var=dep_var)\n",
    "# print(cont, cat)\n",
    "# import pdb; pdb.set_trace()\n",
    "tpo = TabularPandas(HousePrice_train_and_valid, procs, cont, cat, y_names=dep_var, splits=splits)\n",
    "len(tpo.train), len(tpo.valid)"
   ]
  },
  {
   "cell_type": "code",
   "execution_count": 25,
   "id": "adb42d57",
   "metadata": {},
   "outputs": [],
   "source": [
    "def root_mse(pred, y): return round(math.sqrt(((pred-y)**2).mean()), 6)\n",
    "def model_rmse(m, xs, y): return root_mse( m.predict(xs), y)"
   ]
  },
  {
   "cell_type": "code",
   "execution_count": 26,
   "id": "26155985",
   "metadata": {},
   "outputs": [],
   "source": [
    "xs, y = tpo.train.xs, tpo.train.y\n",
    "valid_xs, valid_y = tpo.valid.xs, tpo.valid.y"
   ]
  },
  {
   "cell_type": "code",
   "execution_count": 27,
   "id": "a8cf28f9",
   "metadata": {},
   "outputs": [
    {
     "data": {
      "text/plain": [
       "DecisionTreeRegressor()"
      ]
     },
     "execution_count": 27,
     "metadata": {},
     "output_type": "execute_result"
    }
   ],
   "source": [
    "m = DecisionTreeRegressor()\n",
    "m.fit(xs, y)"
   ]
  },
  {
   "cell_type": "code",
   "execution_count": 28,
   "id": "800dfac8",
   "metadata": {},
   "outputs": [
    {
     "data": {
      "text/plain": [
       "(0.0, 1579)"
      ]
     },
     "execution_count": 28,
     "metadata": {},
     "output_type": "execute_result"
    }
   ],
   "source": [
    "model_rmse(m, xs, y), m.get_n_leaves()"
   ]
  },
  {
   "cell_type": "code",
   "execution_count": 29,
   "id": "02bcbd68",
   "metadata": {},
   "outputs": [
    {
     "data": {
      "text/plain": [
       "0.126922"
      ]
     },
     "execution_count": 29,
     "metadata": {},
     "output_type": "execute_result"
    }
   ],
   "source": [
    "model_rmse(m, valid_xs, valid_y)"
   ]
  },
  {
   "cell_type": "code",
   "execution_count": 30,
   "id": "f047ad01",
   "metadata": {},
   "outputs": [
    {
     "data": {
      "text/plain": [
       "(0.061627, 0.118591, 50)"
      ]
     },
     "execution_count": 30,
     "metadata": {},
     "output_type": "execute_result"
    }
   ],
   "source": [
    "m2 = DecisionTreeRegressor(min_samples_leaf = 25)\n",
    "m2.fit(xs, y)\n",
    "model_rmse(m2, xs, y), model_rmse(m2, valid_xs, valid_y), m2.get_n_leaves()"
   ]
  },
  {
   "cell_type": "code",
   "execution_count": 62,
   "id": "904f157d",
   "metadata": {},
   "outputs": [],
   "source": [
    "def rf(xs, y, n_estimators=1000, max_samples=200,\n",
    "       max_features=0.5, min_samples_leaf=5, **kwargs):\n",
    "    return RandomForestRegressor(n_jobs=-1, n_estimators=n_estimators,\n",
    "        max_samples=max_samples, max_features=max_features,\n",
    "        min_samples_leaf=min_samples_leaf, oob_score=True).fit(xs, y)"
   ]
  },
  {
   "cell_type": "code",
   "execution_count": 63,
   "id": "87fc568e",
   "metadata": {},
   "outputs": [],
   "source": [
    "m3 = rf(xs, y);"
   ]
  },
  {
   "cell_type": "code",
   "execution_count": 64,
   "id": "9b6197ac",
   "metadata": {},
   "outputs": [
    {
     "data": {
      "text/plain": [
       "0.05639"
      ]
     },
     "execution_count": 64,
     "metadata": {},
     "output_type": "execute_result"
    }
   ],
   "source": [
    "model_rmse(m3, xs, y)"
   ]
  },
  {
   "cell_type": "code",
   "execution_count": 65,
   "id": "621063c8",
   "metadata": {},
   "outputs": [
    {
     "data": {
      "text/plain": [
       "0.10619"
      ]
     },
     "execution_count": 65,
     "metadata": {},
     "output_type": "execute_result"
    }
   ],
   "source": [
    "model_rmse(m3, valid_xs, valid_y)"
   ]
  },
  {
   "cell_type": "code",
   "execution_count": 50,
   "id": "d2c8bf7f",
   "metadata": {},
   "outputs": [],
   "source": [
    "def rf_feat_importance(m, df):\n",
    "    return pd.DataFrame({\n",
    "        'cols': df.columns,\n",
    "        'imp': m.feature_importances_,\n",
    "    }).sort_values('imp', ascending=False)"
   ]
  },
  {
   "cell_type": "code",
   "execution_count": 53,
   "id": "5346071f",
   "metadata": {},
   "outputs": [],
   "source": [
    "fi = rf_feat_importance(m3, xs)"
   ]
  },
  {
   "cell_type": "code",
   "execution_count": 54,
   "id": "f8c1d29e",
   "metadata": {},
   "outputs": [],
   "source": [
    "def plot_fi(fi):\n",
    "    return fi.plot('cols', 'imp', 'barh', figsize=(12,7), legend=False)"
   ]
  },
  {
   "cell_type": "code",
   "execution_count": 55,
   "id": "eb90c455",
   "metadata": {},
   "outputs": [
    {
     "data": {
      "text/plain": [
       "<AxesSubplot:ylabel='cols'>"
      ]
     },
     "execution_count": 55,
     "metadata": {},
     "output_type": "execute_result"
    },
    {
     "data": {
      "image/png": "[encoded data removed]",
      "text/plain": [
       "<Figure size 1200x700 with 1 Axes>"
      ]
     },
     "metadata": {},
     "output_type": "display_data"
    }
   ],
   "source": [
    "plot_fi(fi[:20])"
   ]
  },
  {
   "cell_type": "code",
   "execution_count": 59,
   "id": "a99f29ad",
   "metadata": {},
   "outputs": [
    {
     "data": {
      "text/plain": [
       "GradientBoostingRegressor(max_depth=4, n_estimators=1000)"
      ]
     },
     "execution_count": 59,
     "metadata": {},
     "output_type": "execute_result"
    }
   ],
   "source": [
    "learning_rate = 0.1\n",
    "max_depth = 4\n",
    "gbm = GradientBoostingRegressor(\n",
    "    learning_rate = learning_rate, n_estimators = 1000, max_depth = 4)\n",
    "gbm.fit(xs, y)"
   ]
  },
  {
   "cell_type": "code",
   "execution_count": 61,
   "id": "feed8624",
   "metadata": {},
   "outputs": [
    {
     "data": {
      "text/plain": [
       "0.003419"
      ]
     },
     "execution_count": 61,
     "metadata": {},
     "output_type": "execute_result"
    }
   ],
   "source": [
    "model_rmse(gbm, xs, y)"
   ]
  },
  {
   "cell_type": "code",
   "execution_count": 60,
   "id": "15027860",
   "metadata": {},
   "outputs": [
    {
     "data": {
      "text/plain": [
       "0.131497"
      ]
     },
     "execution_count": 60,
     "metadata": {},
     "output_type": "execute_result"
    }
   ],
   "source": [
    "model_rmse(gbm, valid_xs, valid_y)"
   ]
  },
  {
   "cell_type": "code",
   "execution_count": 66,
   "id": "3406e7b9",
   "metadata": {},
   "outputs": [],
   "source": [
    "fi_gbm = rf_feat_importance(gbm, xs)"
   ]
  },
  {
   "cell_type": "raw",
   "id": "25feab83",
   "metadata": {},
   "source": [
    "plot_fi(fi_gbm[:20])"
   ]
  },
  {
   "cell_type": "raw",
   "id": "b49c688c",
   "metadata": {},
   "source": [
    "HousePrice_train_and_valid['YrSold'].unique(), HousePrice_train_and_valid['MoSold'].unique()"
   ]
  },
  {
   "cell_type": "raw",
   "id": "622edcd4",
   "metadata": {},
   "source": [
    "hp_small = HousePrice_train_and_valid(['YrSold', 'MoSold' ,'Sale'])"
   ]
  },
  {
   "cell_type": "code",
   "execution_count": 71,
   "id": "5d6661a4",
   "metadata": {},
   "outputs": [
    {
     "data": {
      "text/plain": [
       "<AxesSubplot:ylabel='cols'>"
      ]
     },
     "execution_count": 71,
     "metadata": {},
     "output_type": "execute_result"
    },
    {
     "data": {
      "image/png": "[encoded data removed]",
      "text/plain": [
       "<Figure size 1200x700 with 1 Axes>"
      ]
     },
     "metadata": {},
     "output_type": "display_data"
    }
   ],
   "source": [
    "plot_fi(fi_gbm[:20])"
   ]
  },
  {
   "cell_type": "code",
   "execution_count": 72,
   "id": "e2d3b99a",
   "metadata": {},
   "outputs": [
    {
     "data": {
      "text/plain": [
       "(array([2009, 2008, 2007, 2006]),\n",
       " array([ 2,  5, 11,  7,  3,  4, 12, 10,  1,  9,  8,  6]))"
      ]
     },
     "execution_count": 72,
     "metadata": {},
     "output_type": "execute_result"
    }
   ],
   "source": [
    "HousePrice_train_and_valid['YrSold'].unique(), HousePrice_train_and_valid['MoSold'].unique()"
   ]
  },
  {
   "cell_type": "code",
   "execution_count": 93,
   "id": "f4ff851b",
   "metadata": {},
   "outputs": [
    {
     "data": {
      "text/plain": [
       "(2246, 3)"
      ]
     },
     "execution_count": 93,
     "metadata": {},
     "output_type": "execute_result"
    }
   ],
   "source": [
    "hp_small = HousePrice_train_and_valid.filter(['YrSold', 'MoSold' ,'SalePrice'], axis=1)\n",
    "hp_small.shape"
   ]
  },
  {
   "cell_type": "code",
   "execution_count": 94,
   "id": "f38eb2d7",
   "metadata": {},
   "outputs": [],
   "source": [
    "from datetime import datetime\n",
    "base_year, base_month = 2006, 1\n",
    "hp_small['month_diff'] = 12 * (hp_small['YrSold'] - base_year) + (hp_small['MoSold'] - base_month)"
   ]
  },
  {
   "cell_type": "code",
   "execution_count": 95,
   "id": "629f26a3",
   "metadata": {},
   "outputs": [
    {
     "data": {
      "text/html": [
       "<div>\n",
       "<style scoped>\n",
       "    .dataframe tbody tr th:only-of-type {\n",
       "        vertical-align: middle;\n",
       "    }\n",
       "\n",
       "    .dataframe tbody tr th {\n",
       "        vertical-align: top;\n",
       "    }\n",
       "\n",
       "    .dataframe thead th {\n",
       "        text-align: right;\n",
       "    }\n",
       "</style>\n",
       "<table border=\"1\" class=\"dataframe\">\n",
       "  <thead>\n",
       "    <tr style=\"text-align: right;\">\n",
       "      <th></th>\n",
       "      <th>YrSold</th>\n",
       "      <th>MoSold</th>\n",
       "      <th>SalePrice</th>\n",
       "      <th>month_diff</th>\n",
       "    </tr>\n",
       "  </thead>\n",
       "  <tbody>\n",
       "    <tr>\n",
       "      <th>1</th>\n",
       "      <td>2009</td>\n",
       "      <td>2</td>\n",
       "      <td>5.144574</td>\n",
       "      <td>37</td>\n",
       "    </tr>\n",
       "    <tr>\n",
       "      <th>3</th>\n",
       "      <td>2009</td>\n",
       "      <td>5</td>\n",
       "      <td>5.056905</td>\n",
       "      <td>40</td>\n",
       "    </tr>\n",
       "    <tr>\n",
       "      <th>4</th>\n",
       "      <td>2009</td>\n",
       "      <td>11</td>\n",
       "      <td>5.356026</td>\n",
       "      <td>46</td>\n",
       "    </tr>\n",
       "    <tr>\n",
       "      <th>5</th>\n",
       "      <td>2009</td>\n",
       "      <td>7</td>\n",
       "      <td>5.297761</td>\n",
       "      <td>42</td>\n",
       "    </tr>\n",
       "  </tbody>\n",
       "</table>\n",
       "</div>"
      ],
      "text/plain": [
       "   YrSold  MoSold  SalePrice  month_diff\n",
       "1    2009       2   5.144574          37\n",
       "3    2009       5   5.056905          40\n",
       "4    2009      11   5.356026          46\n",
       "5    2009       7   5.297761          42"
      ]
     },
     "execution_count": 95,
     "metadata": {},
     "output_type": "execute_result"
    }
   ],
   "source": [
    "hp_small[:4]"
   ]
  },
  {
   "cell_type": "code",
   "execution_count": 96,
   "id": "70597e3b",
   "metadata": {
    "scrolled": true
   },
   "outputs": [
    {
     "data": {
      "text/html": [
       "<div>\n",
       "<style scoped>\n",
       "    .dataframe tbody tr th:only-of-type {\n",
       "        vertical-align: middle;\n",
       "    }\n",
       "\n",
       "    .dataframe tbody tr th {\n",
       "        vertical-align: top;\n",
       "    }\n",
       "\n",
       "    .dataframe thead th {\n",
       "        text-align: right;\n",
       "    }\n",
       "</style>\n",
       "<table border=\"1\" class=\"dataframe\">\n",
       "  <thead>\n",
       "    <tr style=\"text-align: right;\">\n",
       "      <th></th>\n",
       "      <th>SalePrice</th>\n",
       "      <th>month_diff</th>\n",
       "    </tr>\n",
       "  </thead>\n",
       "  <tbody>\n",
       "    <tr>\n",
       "      <th>1</th>\n",
       "      <td>5.144574</td>\n",
       "      <td>37</td>\n",
       "    </tr>\n",
       "    <tr>\n",
       "      <th>3</th>\n",
       "      <td>5.056905</td>\n",
       "      <td>40</td>\n",
       "    </tr>\n",
       "    <tr>\n",
       "      <th>4</th>\n",
       "      <td>5.356026</td>\n",
       "      <td>46</td>\n",
       "    </tr>\n",
       "    <tr>\n",
       "      <th>5</th>\n",
       "      <td>5.297761</td>\n",
       "      <td>42</td>\n",
       "    </tr>\n",
       "  </tbody>\n",
       "</table>\n",
       "</div>"
      ],
      "text/plain": [
       "   SalePrice  month_diff\n",
       "1   5.144574          37\n",
       "3   5.056905          40\n",
       "4   5.356026          46\n",
       "5   5.297761          42"
      ]
     },
     "execution_count": 96,
     "metadata": {},
     "output_type": "execute_result"
    }
   ],
   "source": [
    "hp_small = hp_small.drop(['YrSold', 'MoSold'], axis = 1)\n",
    "hp_small[:4]"
   ]
  },
  {
   "cell_type": "code",
   "execution_count": 98,
   "id": "7e35ad4f",
   "metadata": {},
   "outputs": [],
   "source": [
    "ols = LinearRegression(fit_intercept=True)"
   ]
  },
  {
   "cell_type": "code",
   "execution_count": 100,
   "id": "b88e77ac",
   "metadata": {
    "scrolled": true
   },
   "outputs": [
    {
     "data": {
      "text/plain": [
       "(array([0.00026445]), 5.215461307430534)"
      ]
     },
     "execution_count": 100,
     "metadata": {},
     "output_type": "execute_result"
    }
   ],
   "source": [
    "X, Y = hp_small['month_diff'],  hp_small['SalePrice']\n",
    "X = np.array(X).reshape((len(X), 1))\n",
    "ols.fit(X, Y)\n",
    "ols.coef_, ols.intercept_"
   ]
  },
  {
   "cell_type": "code",
   "execution_count": 102,
   "id": "aa45c898",
   "metadata": {},
   "outputs": [
    {
     "data": {
      "text/plain": [
       "1.0073338311077575"
      ]
     },
     "execution_count": 102,
     "metadata": {},
     "output_type": "execute_result"
    }
   ],
   "source": [
    "term_structure_adjustment_factor = 10 ** (12 * ols.coef_[0])\n",
    "term_structure_adjustment_factor"
   ]
  }
 ],
 "metadata": {
  "kernelspec": {
   "display_name": "Python 3",
   "language": "python",
   "name": "python3"
  },
  "language_info": {
   "codemirror_mode": {
    "name": "ipython",
    "version": 3
   },
   "file_extension": ".py",
   "mimetype": "text/x-python",
   "name": "python",
   "nbconvert_exporter": "python",
   "pygments_lexer": "ipython3",
   "version": "3.8.8"
  }
 },
 "nbformat": 4,
 "nbformat_minor": 5
}
